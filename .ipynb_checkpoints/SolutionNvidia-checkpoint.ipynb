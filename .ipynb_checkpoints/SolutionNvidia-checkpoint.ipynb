{
 "cells": [
  {
   "cell_type": "code",
   "execution_count": 15,
   "metadata": {
    "collapsed": false
   },
   "outputs": [],
   "source": [
    "import pandas as pd\n",
    "from pandas import DataFrame, Series\n",
    "import numpy as np\n",
    "import random\n",
    "from keras.models import load_model, Sequential, Model\n",
    "from keras.layers import Cropping2D\n",
    "import cv2\n"
   ]
  },
  {
   "cell_type": "code",
   "execution_count": 37,
   "metadata": {
    "collapsed": false
   },
   "outputs": [],
   "source": [
    "from keras.models import Sequential\n",
    "from keras.layers.core import Flatten, Dense, Dropout, Lambda\n",
    "from keras.layers.convolutional import Convolution2D, MaxPooling2D, ZeroPadding2D\n",
    "from keras.optimizers import SGD\n",
    "import cv2, numpy as np\n",
    "\n",
    "def Model(weights_path=None, dropout=0.5, dropout_level=1, orig = True):\n",
    "    if orig:\n",
    "        model = Sequential()\n",
    "        \n",
    "        # Take 2x2 stride on the input to reduce dimensionality\n",
    "        model.add(Lambda(lambda x: x[::2, ::2, :], input_shape=(3, 160, 320), output_shape=(3, 80, 160))) #(3, 80, 160)\n",
    "        \n",
    "        # Zero pad the width\n",
    "        model.add(ZeroPadding2D(padding=(0, 20))) #(3, 80, 200)\n",
    "        \n",
    "        # Crop the height\n",
    "        model.add(Cropping2D(cropping=((80-66, 0), (0, 0)))) #(3, 66, 200)\n",
    "        \n",
    "        # Normalize\n",
    "        model.add(Lambda(lambda x: (x / 255.0) - 0.5, output_shape=(3, 66, 200)))\n",
    "        \n",
    "        # Original network\n",
    "        model.add(Dropout(dropout)) if dropout_level >= 2 else None\n",
    "        model.add(Convolution2D(24, 5, 5, border_mode='valid', subsample=(2,2), activation='relu')) #(24, 31, 98)\n",
    "        model.add(Dropout(dropout)) if dropout_level >= 2 else None\n",
    "        model.add(Convolution2D(36, 5, 5, border_mode='valid', subsample=(2,2), activation='relu')) #(36, 14, 47)\n",
    "        model.add(Dropout(dropout)) if dropout_level >= 2 else None\n",
    "        model.add(Convolution2D(48, 5, 5, border_mode='valid', subsample=(2,2), activation='relu')) #(48, 5, 22)\n",
    "        model.add(Dropout(dropout)) if dropout_level >= 2 else None\n",
    "        model.add(Convolution2D(64, 3, 3, border_mode='valid', subsample=(1,1), activation='relu')) #(64, 3, 20)\n",
    "        model.add(Dropout(dropout)) if dropout_level >= 2 else None\n",
    "        model.add(Convolution2D(64, 3, 3, border_mode='valid', subsample=(1,1), activation='relu')) #(64, 1, 18)\n",
    "        model.add(Dropout(dropout)) if dropout_level >= 2 else None\n",
    "        model.add(Flatten())\n",
    "        model.add(Dense(100, activation='relu'))\n",
    "        model.add(Dropout(dropout)) if dropout_level >= 1 else None\n",
    "        model.add(Dense(50, activation='relu'))\n",
    "        model.add(Dropout(dropout)) if dropout_level >= 1 else None\n",
    "        model.add(Dense(10, activation='relu'))\n",
    "        model.add(Dropout(dropout)) if dropout_level >= 1 else None\n",
    "        model.add(Dense(1, activation='tanh'))\n",
    "    else:\n",
    "        model = Sequential()\n",
    "        model.add(Lambda(lambda x: (x / 255.0) - 0.5, input_shape=(3, 160, 320)))\n",
    "        model.add(Dropout(dropout)) if dropout_level >= 2 else None\n",
    "        model.add(Convolution2D(24, 5, 5, border_mode='valid', subsample=(3,3), activation='relu')) #(24, 52, 106)\n",
    "        model.add(Dropout(dropout)) if dropout_level >= 2 else None\n",
    "        model.add(Convolution2D(36, 5, 5, border_mode='valid', subsample=(2,2), activation='relu')) #(36, 24, 51)\n",
    "        model.add(Dropout(dropout)) if dropout_level >= 2 else None\n",
    "        model.add(Convolution2D(48, 5, 5, border_mode='valid', subsample=(2,2), activation='relu')) #(48, 10, 24)\n",
    "        model.add(Dropout(dropout)) if dropout_level >= 2 else None\n",
    "        model.add(Convolution2D(64, 3, 3, border_mode='valid', subsample=(1,1), activation='relu')) #(64, 8, 22)\n",
    "        model.add(Dropout(dropout)) if dropout_level >= 2 else None\n",
    "        model.add(Convolution2D(64, 3, 3, border_mode='valid', subsample=(1,1), activation='relu')) #(64, 6, 20)\n",
    "        model.add(Dropout(dropout)) if dropout_level >= 2 else None\n",
    "        model.add(Flatten())\n",
    "        model.add(Dense(100, activation='relu'))\n",
    "        model.add(Dropout(dropout)) if dropout_level >= 1 else None\n",
    "        model.add(Dense(50, activation='relu'))\n",
    "        model.add(Dropout(dropout)) if dropout_level >= 1 else None\n",
    "        model.add(Dense(10, activation='relu'))\n",
    "        model.add(Dropout(dropout)) if dropout_level >= 1 else None\n",
    "        model.add(Dense(1, activation='tanh'))\n",
    "\n",
    "    if weights_path:\n",
    "        model.load_weights(weights_path, by_name=True)\n",
    "\n",
    "    return model"
   ]
  },
  {
   "cell_type": "code",
   "execution_count": 17,
   "metadata": {
    "collapsed": false
   },
   "outputs": [
    {
     "data": {
      "text/html": [
       "<div>\n",
       "<table border=\"1\" class=\"dataframe\">\n",
       "  <thead>\n",
       "    <tr style=\"text-align: right;\">\n",
       "      <th></th>\n",
       "      <th>center</th>\n",
       "      <th>left</th>\n",
       "      <th>right</th>\n",
       "      <th>steering</th>\n",
       "      <th>throttle</th>\n",
       "      <th>brake</th>\n",
       "      <th>speed</th>\n",
       "    </tr>\n",
       "  </thead>\n",
       "  <tbody>\n",
       "    <tr>\n",
       "      <th>6637</th>\n",
       "      <td>data_download/IMG/center_2016_12_01_13_44_19_9...</td>\n",
       "      <td>data_download/ IMG/left_2016_12_01_13_44_19_95...</td>\n",
       "      <td>data_download/ IMG/right_2016_12_01_13_44_19_9...</td>\n",
       "      <td>-0.097735</td>\n",
       "      <td>0.985533</td>\n",
       "      <td>0.0</td>\n",
       "      <td>30.18678</td>\n",
       "    </tr>\n",
       "    <tr>\n",
       "      <th>6632</th>\n",
       "      <td>data_download/IMG/center_2016_12_01_13_44_19_4...</td>\n",
       "      <td>data_download/ IMG/left_2016_12_01_13_44_19_44...</td>\n",
       "      <td>data_download/ IMG/right_2016_12_01_13_44_19_4...</td>\n",
       "      <td>-0.078746</td>\n",
       "      <td>0.985533</td>\n",
       "      <td>0.0</td>\n",
       "      <td>30.18562</td>\n",
       "    </tr>\n",
       "    <tr>\n",
       "      <th>7327</th>\n",
       "      <td>data_download/IMG/center_2016_12_01_13_45_29_9...</td>\n",
       "      <td>data_download/ IMG/left_2016_12_01_13_45_29_92...</td>\n",
       "      <td>data_download/ IMG/right_2016_12_01_13_45_29_9...</td>\n",
       "      <td>-0.002791</td>\n",
       "      <td>0.985533</td>\n",
       "      <td>0.0</td>\n",
       "      <td>30.18650</td>\n",
       "    </tr>\n",
       "    <tr>\n",
       "      <th>730</th>\n",
       "      <td>data_download/IMG/center_2016_12_01_13_33_52_2...</td>\n",
       "      <td>data_download/ IMG/left_2016_12_01_13_33_52_24...</td>\n",
       "      <td>data_download/ IMG/right_2016_12_01_13_33_52_2...</td>\n",
       "      <td>0.000000</td>\n",
       "      <td>0.985533</td>\n",
       "      <td>0.0</td>\n",
       "      <td>30.18665</td>\n",
       "    </tr>\n",
       "    <tr>\n",
       "      <th>1515</th>\n",
       "      <td>data_download/IMG/center_2016_12_01_13_35_11_8...</td>\n",
       "      <td>data_download/ IMG/left_2016_12_01_13_35_11_81...</td>\n",
       "      <td>data_download/ IMG/right_2016_12_01_13_35_11_8...</td>\n",
       "      <td>0.000000</td>\n",
       "      <td>0.985533</td>\n",
       "      <td>0.0</td>\n",
       "      <td>30.18685</td>\n",
       "    </tr>\n",
       "  </tbody>\n",
       "</table>\n",
       "</div>"
      ],
      "text/plain": [
       "                                                 center  \\\n",
       "6637  data_download/IMG/center_2016_12_01_13_44_19_9...   \n",
       "6632  data_download/IMG/center_2016_12_01_13_44_19_4...   \n",
       "7327  data_download/IMG/center_2016_12_01_13_45_29_9...   \n",
       "730   data_download/IMG/center_2016_12_01_13_33_52_2...   \n",
       "1515  data_download/IMG/center_2016_12_01_13_35_11_8...   \n",
       "\n",
       "                                                   left  \\\n",
       "6637  data_download/ IMG/left_2016_12_01_13_44_19_95...   \n",
       "6632  data_download/ IMG/left_2016_12_01_13_44_19_44...   \n",
       "7327  data_download/ IMG/left_2016_12_01_13_45_29_92...   \n",
       "730   data_download/ IMG/left_2016_12_01_13_33_52_24...   \n",
       "1515  data_download/ IMG/left_2016_12_01_13_35_11_81...   \n",
       "\n",
       "                                                  right  steering  throttle  \\\n",
       "6637  data_download/ IMG/right_2016_12_01_13_44_19_9... -0.097735  0.985533   \n",
       "6632  data_download/ IMG/right_2016_12_01_13_44_19_4... -0.078746  0.985533   \n",
       "7327  data_download/ IMG/right_2016_12_01_13_45_29_9... -0.002791  0.985533   \n",
       "730   data_download/ IMG/right_2016_12_01_13_33_52_2...  0.000000  0.985533   \n",
       "1515  data_download/ IMG/right_2016_12_01_13_35_11_8...  0.000000  0.985533   \n",
       "\n",
       "      brake     speed  \n",
       "6637    0.0  30.18678  \n",
       "6632    0.0  30.18562  \n",
       "7327    0.0  30.18650  \n",
       "730     0.0  30.18665  \n",
       "1515    0.0  30.18685  "
      ]
     },
     "execution_count": 17,
     "metadata": {},
     "output_type": "execute_result"
    }
   ],
   "source": [
    "data_dir = \"data_download\"\n",
    "\n",
    "driving_log_df = pd.read_csv(data_dir + \"/driving_log.csv\")\n",
    "driving_log_df[['center', 'left', 'right']] = data_dir + \"/\" + driving_log_df[['center', 'left', 'right']]\n",
    "\n",
    "# shuffle\n",
    "np.random.seed(42)\n",
    "driving_log_df = driving_log_df.reindex(np.random.permutation(driving_log_df.index), copy=False)\n",
    "\n",
    "driving_log_df.head()"
   ]
  },
  {
   "cell_type": "code",
   "execution_count": 18,
   "metadata": {
    "collapsed": false
   },
   "outputs": [],
   "source": [
    "def get_next_image_generator(df, position = 'center', offset = 0.2):\n",
    "    for idx, image_path in enumerate(df[position]):\n",
    "        img = cv2.imread(image_path)\n",
    "        yield img\n"
   ]
  },
  {
   "cell_type": "code",
   "execution_count": 19,
   "metadata": {
    "collapsed": false,
    "scrolled": true
   },
   "outputs": [
    {
     "name": "stdout",
     "output_type": "stream",
     "text": [
      "Dimension of image: H x W X D =  (160, 320, 3)\n",
      "# of images:  8036\n",
      "Steering range: Min= -0.9426954  , Max= 1.0\n",
      "Throttle range: Min= 0.0  , Max= 0.9855326\n",
      "Brake range: Min= 0.0  , Max= 1.0\n",
      "Speed range: Min= 0.5024896  , Max= 30.70936\n",
      "image Min:  0\n",
      "image Max:  255\n"
     ]
    },
    {
     "data": {
      "text/plain": [
       "array([[[187, 143, 130],\n",
       "        [185, 141, 128],\n",
       "        [181, 137, 124],\n",
       "        ..., \n",
       "        [ 14,  38,  30],\n",
       "        [ 14,  35,  26],\n",
       "        [  1,  20,  11]],\n",
       "\n",
       "       [[162, 129, 114],\n",
       "        [166, 133, 118],\n",
       "        [171, 138, 123],\n",
       "        ..., \n",
       "        [  0,  15,   6],\n",
       "        [  0,   9,   1],\n",
       "        [ 11,  34,  26]],\n",
       "\n",
       "       [[115,  99,  83],\n",
       "        [122, 106,  90],\n",
       "        [134, 118, 102],\n",
       "        ..., \n",
       "        [154, 184, 179],\n",
       "        [  0,  11,   7],\n",
       "        [  0,   6,   0]],\n",
       "\n",
       "       ..., \n",
       "       [[ 91, 105, 104],\n",
       "        [ 97, 111, 110],\n",
       "        [101, 115, 114],\n",
       "        ..., \n",
       "        [ 82,  96,  95],\n",
       "        [ 75,  89,  88],\n",
       "        [ 78,  92,  91]],\n",
       "\n",
       "       [[110, 124, 123],\n",
       "        [ 99, 113, 112],\n",
       "        [ 87, 101, 100],\n",
       "        ..., \n",
       "        [ 90, 104, 103],\n",
       "        [ 85,  99,  98],\n",
       "        [ 87, 101, 100]],\n",
       "\n",
       "       [[ 88, 102, 101],\n",
       "        [ 86, 100,  99],\n",
       "        [ 89, 103, 102],\n",
       "        ..., \n",
       "        [ 99, 113, 112],\n",
       "        [101, 115, 114],\n",
       "        [ 91, 105, 104]]], dtype=uint8)"
      ]
     },
     "execution_count": 19,
     "metadata": {},
     "output_type": "execute_result"
    }
   ],
   "source": [
    "tempgen = get_next_image_generator(driving_log_df)\n",
    "sample = next(tempgen)\n",
    "print(\"Dimension of image: H x W X D = \", sample.shape)\n",
    "print(\"# of images: \", len(driving_log_df))\n",
    "\n",
    "print(\"Steering range: Min=\", np.min(driving_log_df['steering']), \" , Max=\", np.max(driving_log_df['steering']))\n",
    "print(\"Throttle range: Min=\", np.min(driving_log_df['throttle']), \" , Max=\", np.max(driving_log_df['throttle']))\n",
    "print(\"Brake range: Min=\", np.min(driving_log_df['brake']), \" , Max=\", np.max(driving_log_df['brake']))\n",
    "print(\"Speed range: Min=\", np.min(driving_log_df['speed']), \" , Max=\", np.max(driving_log_df['speed']))\n",
    "\n",
    "print(\"image Min: \", np.min(sample))\n",
    "print(\"image Max: \", np.max(sample))\n",
    "sample"
   ]
  },
  {
   "cell_type": "code",
   "execution_count": 28,
   "metadata": {
    "collapsed": true
   },
   "outputs": [],
   "source": [
    "steering, throttle, brake, speed = driving_log_df['steering'], \\\n",
    "                                    driving_log_df['throttle'], \\\n",
    "                                    driving_log_df['brake'], \\\n",
    "                                    driving_log_df['speed']\n",
    "            \n",
    "# Need to output steering angle\n",
    "\n"
   ]
  },
  {
   "cell_type": "code",
   "execution_count": 29,
   "metadata": {
    "collapsed": false
   },
   "outputs": [
    {
     "name": "stdout",
     "output_type": "stream",
     "text": [
      "Shape:  (10, 3, 160, 320)\n"
     ]
    }
   ],
   "source": [
    "# Raw data input: (8036, 160, 320, 3)\n",
    "position = 'center'\n",
    "val_portion = 0.2\n",
    "total_len = len(driving_log_df)\n",
    "val_len = int(val_portion * total_len)\n",
    "train_len = total_len - val_len\n",
    "\n",
    "# Process the data with cropping and scaling ()\n",
    "\n",
    "def get_next_feature(df, batch_size = 10, mode = 'train', position = 'center', offset = 0.2, val_portion = 0.2):\n",
    "    \"\"\"\n",
    "    Assumes df is already shuffled\n",
    "    \"\"\"\n",
    "    total_len = len(df)\n",
    "    val_len = int(val_portion * total_len)\n",
    "    train_len = total_len - val_len\n",
    "    if mode == \"train\":\n",
    "        df = df[:train_len]\n",
    "    else:\n",
    "        df = df[train_len:]\n",
    "            \n",
    "    sample_image = cv2.imread(df['center'].iloc[0])\n",
    "    sample_image = np.rollaxis(sample_image, 2, 0)\n",
    "    image_size = sample_image.shape\n",
    "    \n",
    "    inputs = np.zeros([batch_size, *image_size]) #length of prediction output\n",
    "    targets = np.zeros([batch_size])\n",
    "    \n",
    "    count = 0\n",
    "    \n",
    "    while(True):\n",
    "        for idx in range(len(df)):\n",
    "            image_path = df[position].iloc[idx]\n",
    "            img = cv2.imread(image_path)\n",
    "            img = img[np.newaxis, :, :, :]\n",
    "            img = np.rollaxis(img, 3, 1)        \n",
    "\n",
    "            inputs[count] = img\n",
    "            targets[count] = df.iloc[idx]['steering']\n",
    "            if position == 'right':\n",
    "                targets[count] -= offset\n",
    "            elif position == 'left':\n",
    "                targets[count] += offset\n",
    "\n",
    "            count += 1\n",
    "            if count == batch_size:\n",
    "                yield inputs, targets\n",
    "                inputs = np.zeros([batch_size, *image_size])\n",
    "                targets = np.zeros([batch_size])\n",
    "                count = 0\n",
    "\n",
    "\n",
    "train_generator_center = get_next_feature(driving_log_df, 10, 'train', position, val_portion)\n",
    "validation_generator_center = get_next_feature(driving_log_df, 10, 'val', position, val_portion)\n",
    "\n",
    "print(\"Shape: \", next(train_generator_center)[0].shape) # Delete me"
   ]
  },
  {
   "cell_type": "code",
   "execution_count": 43,
   "metadata": {
    "collapsed": false
   },
   "outputs": [
    {
     "name": "stderr",
     "output_type": "stream",
     "text": [
      "/Users/macbook/anaconda/envs/carnd-term1/lib/python3.5/site-packages/keras/layers/core.py:621: UserWarning: `output_shape` argument not specified for layer lambda_21 and cannot be automatically inferred with the Theano backend. Defaulting to output shape `(None, 3, 160, 320)` (same as input shape). If the expected output shape is different, specify it via the `output_shape` argument.\n",
      "  .format(self.name, input_shape))\n"
     ]
    }
   ],
   "source": [
    "# Define the model\n",
    "\n",
    "model = Model() # The nVidia model\n",
    "model = Model(dropout=0.5, dropout_level=0, orig = False)"
   ]
  },
  {
   "cell_type": "code",
   "execution_count": 47,
   "metadata": {
    "collapsed": false
   },
   "outputs": [
    {
     "name": "stdout",
     "output_type": "stream",
     "text": [
      "Epoch 1/5\n",
      "8s - loss: 0.0061 - acc: 0.5733 - val_loss: 0.0173 - val_acc: 0.4800\n",
      "Epoch 2/5\n",
      "8s - loss: 0.0124 - acc: 0.4767 - val_loss: 0.0225 - val_acc: 0.5100\n",
      "Epoch 3/5\n",
      "8s - loss: 0.0121 - acc: 0.5200 - val_loss: 0.0072 - val_acc: 0.6100\n",
      "Epoch 4/5\n",
      "8s - loss: 0.0113 - acc: 0.5300 - val_loss: 0.0110 - val_acc: 0.5500\n",
      "Epoch 5/5\n",
      "8s - loss: 0.0112 - acc: 0.5467 - val_loss: 0.0091 - val_acc: 0.5000\n"
     ]
    }
   ],
   "source": [
    "model.compile(optimizer='adam', loss='mean_squared_error', metrics=[\"accuracy\"])\n",
    "\n",
    "# train model\n",
    "EPOCHS = 5 #5\n",
    "BATCH_SIZE = 300\n",
    "\n",
    "#model.fit(self, x, y, batch_size=5, nb_epoch=2, verbose=2, callbacks=None, validation_split=0.2, shuffle=True)\n",
    "model.fit_generator(train_generator_center, BATCH_SIZE, EPOCHS, verbose=2, validation_data=validation_generator_center, nb_val_samples=BATCH_SIZE/3)\n"
   ]
  },
  {
   "cell_type": "code",
   "execution_count": 219,
   "metadata": {
    "collapsed": false
   },
   "outputs": [],
   "source": [
    "model.save('model.h5')\n",
    "\n",
    "# # returns a compiled model\n",
    "# # identical to the previous one\n",
    "# model = load_model('model.h5')"
   ]
  },
  {
   "cell_type": "code",
   "execution_count": null,
   "metadata": {
    "collapsed": true
   },
   "outputs": [],
   "source": []
  },
  {
   "cell_type": "code",
   "execution_count": null,
   "metadata": {
    "collapsed": true
   },
   "outputs": [],
   "source": []
  }
 ],
 "metadata": {
  "kernelspec": {
   "display_name": "Python 3",
   "language": "python",
   "name": "python3"
  },
  "language_info": {
   "codemirror_mode": {
    "name": "ipython",
    "version": 3
   },
   "file_extension": ".py",
   "mimetype": "text/x-python",
   "name": "python",
   "nbconvert_exporter": "python",
   "pygments_lexer": "ipython3",
   "version": "3.5.2"
  },
  "widgets": {
   "state": {},
   "version": "1.1.2"
  }
 },
 "nbformat": 4,
 "nbformat_minor": 2
}
