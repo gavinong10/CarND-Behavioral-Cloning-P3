{
 "cells": [
  {
   "cell_type": "code",
   "execution_count": 23,
   "metadata": {
    "collapsed": false
   },
   "outputs": [],
   "source": [
    "import pandas as pd\n",
    "from pandas import DataFrame, Series\n",
    "import numpy as np\n",
    "import random\n",
    "from keras.models import load_model, Sequential, Model\n",
    "from keras.layers import Cropping2D\n",
    "import cv2\n",
    "import os\n"
   ]
  },
  {
   "cell_type": "code",
   "execution_count": 24,
   "metadata": {
    "collapsed": false
   },
   "outputs": [],
   "source": [
    "from keras.models import Sequential\n",
    "from keras.layers.core import Flatten, Dense, Dropout, Lambda\n",
    "from keras.layers.convolutional import Convolution2D, MaxPooling2D, ZeroPadding2D\n",
    "from keras.optimizers import SGD\n",
    "import cv2, numpy as np\n",
    "\n",
    "def Model(weights_path=None, dropout=0.5, dropout_level=1, orig = True):\n",
    "    if orig:\n",
    "        model = Sequential()\n",
    "        \n",
    "        # Take 2x2 stride on the input to reduce dimensionality\n",
    "        model.add(Lambda(lambda x: x[::2, ::2, :], input_shape=(160, 320, 3), output_shape=(80, 160, 3))) #(3, 80, 160)\n",
    "        \n",
    "        # Zero pad the width\n",
    "        model.add(ZeroPadding2D(padding=(0, 20))) #(3, 80, 200)\n",
    "        \n",
    "        # Crop the height\n",
    "        model.add(Cropping2D(cropping=((80-66, 0), (0, 0)))) #(3, 66, 200)\n",
    "        \n",
    "        # Normalize\n",
    "        model.add(Lambda(lambda x: (x / 255.0) - 0.5, output_shape=(66, 200, 3)))\n",
    "        \n",
    "        # Original network\n",
    "        model.add(Dropout(dropout)) if dropout_level >= 2 else None\n",
    "        model.add(Convolution2D(24, 5, 5, border_mode='valid', subsample=(2,2), activation='relu')) #(24, 31, 98)\n",
    "        model.add(Dropout(dropout)) if dropout_level >= 2 else None\n",
    "        model.add(Convolution2D(36, 5, 5, border_mode='valid', subsample=(2,2), activation='relu')) #(36, 14, 47)\n",
    "        model.add(Dropout(dropout)) if dropout_level >= 2 else None\n",
    "        model.add(Convolution2D(48, 5, 5, border_mode='valid', subsample=(2,2), activation='relu')) #(48, 5, 22)\n",
    "        model.add(Dropout(dropout)) if dropout_level >= 2 else None\n",
    "        model.add(Convolution2D(64, 3, 3, border_mode='valid', subsample=(1,1), activation='relu')) #(64, 3, 20)\n",
    "        model.add(Dropout(dropout)) if dropout_level >= 2 else None\n",
    "        model.add(Convolution2D(64, 3, 3, border_mode='valid', subsample=(1,1), activation='relu')) #(64, 1, 18)\n",
    "        model.add(Dropout(dropout)) if dropout_level >= 2 else None\n",
    "        model.add(Flatten())\n",
    "        model.add(Dense(100, activation='relu'))\n",
    "        model.add(Dropout(dropout)) if dropout_level >= 1 else None\n",
    "        model.add(Dense(50, activation='relu'))\n",
    "        model.add(Dropout(dropout)) if dropout_level >= 1 else None\n",
    "        model.add(Dense(10, activation='relu'))\n",
    "        model.add(Dropout(dropout)) if dropout_level >= 1 else None\n",
    "        model.add(Dense(1, activation='tanh'))\n",
    "    else:\n",
    "        model = Sequential()\n",
    "        model.add(Lambda(lambda x: (x / 255.0) - 0.5, input_shape=(160, 320, 3), output_shape=(160, 320, 3)))\n",
    "        model.add(Dropout(dropout)) if dropout_level >= 2 else None\n",
    "        model.add(Convolution2D(24, 5, 5, border_mode='valid', subsample=(3,3), activation='relu')) #(24, 52, 106)\n",
    "        model.add(Dropout(dropout)) if dropout_level >= 2 else None\n",
    "        model.add(Convolution2D(36, 5, 5, border_mode='valid', subsample=(2,2), activation='relu')) #(36, 24, 51)\n",
    "        model.add(Dropout(dropout)) if dropout_level >= 2 else None\n",
    "        model.add(Convolution2D(48, 5, 5, border_mode='valid', subsample=(2,2), activation='relu')) #(48, 10, 24)\n",
    "        model.add(Dropout(dropout)) if dropout_level >= 2 else None\n",
    "        model.add(Convolution2D(64, 3, 3, border_mode='valid', subsample=(1,1), activation='relu')) #(64, 8, 22)\n",
    "        model.add(Dropout(dropout)) if dropout_level >= 2 else None\n",
    "        model.add(Convolution2D(64, 3, 3, border_mode='valid', subsample=(1,1), activation='relu')) #(64, 6, 20)\n",
    "        model.add(Dropout(dropout)) if dropout_level >= 2 else None\n",
    "        model.add(Flatten())\n",
    "        model.add(Dense(100, activation='relu'))\n",
    "        model.add(Dropout(dropout)) if dropout_level >= 1 else None\n",
    "        model.add(Dense(50, activation='relu'))\n",
    "        model.add(Dropout(dropout)) if dropout_level >= 1 else None\n",
    "        model.add(Dense(10, activation='relu'))\n",
    "        model.add(Dropout(dropout)) if dropout_level >= 1 else None\n",
    "        model.add(Dense(1, activation='tanh'))\n",
    "\n",
    "    if weights_path:\n",
    "        model.load_weights(weights_path, by_name=True)\n",
    "\n",
    "    return model"
   ]
  },
  {
   "cell_type": "code",
   "execution_count": 25,
   "metadata": {
    "collapsed": false
   },
   "outputs": [
    {
     "name": "stdout",
     "output_type": "stream",
     "text": [
      "['trial1_offroad_fwd', 'trial2', 'trial2b', 'trial3-avoidb', 'trial3', 'trial1_recovery_fwd', 'trial1_corners_bwd', 'trial3-avoid', 'trial2-corner', 'trial1_offroad_bwd', 'trial1_recovery_bwd', 'trial1_corners_fwd']\n"
     ]
    },
    {
     "data": {
      "text/html": [
       "<div>\n",
       "<table border=\"1\" class=\"dataframe\">\n",
       "  <thead>\n",
       "    <tr style=\"text-align: right;\">\n",
       "      <th></th>\n",
       "      <th>center</th>\n",
       "      <th>left</th>\n",
       "      <th>right</th>\n",
       "      <th>steering</th>\n",
       "      <th>throttle</th>\n",
       "      <th>brake</th>\n",
       "      <th>speed</th>\n",
       "    </tr>\n",
       "  </thead>\n",
       "  <tbody>\n",
       "    <tr>\n",
       "      <th>0</th>\n",
       "      <td>/home/carnd/Dropbox/udacity-data/track1/trial1...</td>\n",
       "      <td>/home/carnd/Dropbox/udacity-data/track1/trial1...</td>\n",
       "      <td>/home/carnd/Dropbox/udacity-data/track1/trial1...</td>\n",
       "      <td>0.0</td>\n",
       "      <td>1.0</td>\n",
       "      <td>0.0</td>\n",
       "      <td>6.373074</td>\n",
       "    </tr>\n",
       "    <tr>\n",
       "      <th>1</th>\n",
       "      <td>/home/carnd/Dropbox/udacity-data/track1/trial1...</td>\n",
       "      <td>/home/carnd/Dropbox/udacity-data/track1/trial1...</td>\n",
       "      <td>/home/carnd/Dropbox/udacity-data/track1/trial1...</td>\n",
       "      <td>0.0</td>\n",
       "      <td>1.0</td>\n",
       "      <td>0.0</td>\n",
       "      <td>7.295840</td>\n",
       "    </tr>\n",
       "    <tr>\n",
       "      <th>2</th>\n",
       "      <td>/home/carnd/Dropbox/udacity-data/track1/trial1...</td>\n",
       "      <td>/home/carnd/Dropbox/udacity-data/track1/trial1...</td>\n",
       "      <td>/home/carnd/Dropbox/udacity-data/track1/trial1...</td>\n",
       "      <td>0.0</td>\n",
       "      <td>1.0</td>\n",
       "      <td>0.0</td>\n",
       "      <td>8.210684</td>\n",
       "    </tr>\n",
       "    <tr>\n",
       "      <th>3</th>\n",
       "      <td>/home/carnd/Dropbox/udacity-data/track1/trial1...</td>\n",
       "      <td>/home/carnd/Dropbox/udacity-data/track1/trial1...</td>\n",
       "      <td>/home/carnd/Dropbox/udacity-data/track1/trial1...</td>\n",
       "      <td>0.0</td>\n",
       "      <td>1.0</td>\n",
       "      <td>0.0</td>\n",
       "      <td>8.891744</td>\n",
       "    </tr>\n",
       "    <tr>\n",
       "      <th>4</th>\n",
       "      <td>/home/carnd/Dropbox/udacity-data/track1/trial1...</td>\n",
       "      <td>/home/carnd/Dropbox/udacity-data/track1/trial1...</td>\n",
       "      <td>/home/carnd/Dropbox/udacity-data/track1/trial1...</td>\n",
       "      <td>0.0</td>\n",
       "      <td>1.0</td>\n",
       "      <td>0.0</td>\n",
       "      <td>9.793880</td>\n",
       "    </tr>\n",
       "  </tbody>\n",
       "</table>\n",
       "</div>"
      ],
      "text/plain": [
       "                                              center  \\\n",
       "0  /home/carnd/Dropbox/udacity-data/track1/trial1...   \n",
       "1  /home/carnd/Dropbox/udacity-data/track1/trial1...   \n",
       "2  /home/carnd/Dropbox/udacity-data/track1/trial1...   \n",
       "3  /home/carnd/Dropbox/udacity-data/track1/trial1...   \n",
       "4  /home/carnd/Dropbox/udacity-data/track1/trial1...   \n",
       "\n",
       "                                                left  \\\n",
       "0  /home/carnd/Dropbox/udacity-data/track1/trial1...   \n",
       "1  /home/carnd/Dropbox/udacity-data/track1/trial1...   \n",
       "2  /home/carnd/Dropbox/udacity-data/track1/trial1...   \n",
       "3  /home/carnd/Dropbox/udacity-data/track1/trial1...   \n",
       "4  /home/carnd/Dropbox/udacity-data/track1/trial1...   \n",
       "\n",
       "                                               right  steering  throttle  \\\n",
       "0  /home/carnd/Dropbox/udacity-data/track1/trial1...       0.0       1.0   \n",
       "1  /home/carnd/Dropbox/udacity-data/track1/trial1...       0.0       1.0   \n",
       "2  /home/carnd/Dropbox/udacity-data/track1/trial1...       0.0       1.0   \n",
       "3  /home/carnd/Dropbox/udacity-data/track1/trial1...       0.0       1.0   \n",
       "4  /home/carnd/Dropbox/udacity-data/track1/trial1...       0.0       1.0   \n",
       "\n",
       "   brake     speed  \n",
       "0    0.0  6.373074  \n",
       "1    0.0  7.295840  \n",
       "2    0.0  8.210684  \n",
       "3    0.0  8.891744  \n",
       "4    0.0  9.793880  "
      ]
     },
     "execution_count": 25,
     "metadata": {},
     "output_type": "execute_result"
    }
   ],
   "source": [
    "track1_dir = '/home/carnd/Dropbox/udacity-data/track1'\n",
    "\n",
    "folders_to_exclude = [] #['trial1_offroad_fwd', 'trial1_offroad_bwd']\n",
    "track1_data_dirs = [x for x in os.listdir(track1_dir) if x not in folders_to_exclude]\n",
    "print(track1_data_dirs)\n",
    "track1_data_dirs = [track1_dir + '/' + x for x in track1_data_dirs]\n",
    "\n",
    "track2_dir = '/home/carnd/Dropbox/udacity-data/track2'\n",
    "\n",
    "folders_to_exclude = [] #['trial1_offroad_fwd', 'trial1_offroad_bwd']\n",
    "track2_data_dirs = [x for x in os.listdir(track2_dir) if x not in folders_to_exclude]\n",
    "print(track2_data_dirs)\n",
    "track2_data_dirs = [track2_dir + '/' + x for x in track2_data_dirs]\n",
    "\n",
    "\n",
    "driving_log_df = None\n",
    "\n",
    "for data_dir in track1_data_dirs + track2_data_dirs:\n",
    "    df = pd.read_csv(data_dir + \"/driving_log.csv\", header=None, names=[\"center\",\"left\",\"right\",\"steering\",\"throttle\",\"brake\",\"speed\"])\n",
    "\n",
    "    cols = ['center', 'left', 'right']\n",
    "    for col in cols:\n",
    "        df[col] = df[col].str.strip()\n",
    "        df[col] = df[col].str.split(\"/\").apply(lambda x: x[-1])\n",
    "    df[['center', 'left', 'right']] = data_dir + \"/IMG/\" + df[['center', 'left', 'right']]\n",
    "#    \"/home/carnd/Dropbox/udacity-data/track1/trial1_offroad_fwd//Users/macbook/Development/personal/udacity-car/CarND-Behavioral-Cloning-P3/trial1_offroad_fwd/IMG/center_2017_02_19_10_05_58_231.jpg\"\n",
    "    \n",
    "    if driving_log_df is None:\n",
    "        driving_log_df = df\n",
    "    else:\n",
    "        driving_log_df = pd.concat([driving_log_df, df])\n",
    "\n",
    "# # shuffle\n",
    "# np.random.seed(42)\n",
    "# driving_log_df = driving_log_df.reindex(np.random.permutation(driving_log_df.index), copy=False)\n",
    "\n",
    "driving_log_df.head()"
   ]
  },
  {
   "cell_type": "code",
   "execution_count": 26,
   "metadata": {
    "collapsed": false
   },
   "outputs": [],
   "source": [
    "def get_next_image_generator(df, position = 'center', offset = 0.2):\n",
    "    for idx, image_path in enumerate(df[position]):\n",
    "        img = cv2.imread(image_path)\n",
    "        yield img\n"
   ]
  },
  {
   "cell_type": "code",
   "execution_count": 27,
   "metadata": {
    "collapsed": false,
    "scrolled": true
   },
   "outputs": [
    {
     "name": "stdout",
     "output_type": "stream",
     "text": [
      "Dimension of image: H x W X D =  (160, 320, 3)\n",
      "# of images:  16039\n",
      "Steering range: Min= -1.0  , Max= 0.9576946\n",
      "Throttle range: Min= 0.0  , Max= 1.0\n",
      "Brake range: Min= 0.0  , Max= 1.0\n",
      "Speed range: Min= 8.622601e-05  , Max= 30.6053\n",
      "image Min:  0\n",
      "image Max:  255\n"
     ]
    },
    {
     "data": {
      "text/plain": [
       "array([[[ 44,  54,  37],\n",
       "        [ 27,  30,  14],\n",
       "        [151, 143, 126],\n",
       "        ..., \n",
       "        [229, 177, 141],\n",
       "        [229, 177, 141],\n",
       "        [229, 177, 141]],\n",
       "\n",
       "       [[ 45,  54,  34],\n",
       "        [ 37,  37,  19],\n",
       "        [168, 158, 140],\n",
       "        ..., \n",
       "        [229, 177, 141],\n",
       "        [229, 177, 141],\n",
       "        [229, 177, 141]],\n",
       "\n",
       "       [[  6,   7,   0],\n",
       "        [148, 143, 122],\n",
       "        [159, 145, 123],\n",
       "        ..., \n",
       "        [230, 178, 142],\n",
       "        [230, 178, 142],\n",
       "        [230, 178, 142]],\n",
       "\n",
       "       ..., \n",
       "       [[106, 146, 174],\n",
       "        [106, 146, 174],\n",
       "        [106, 146, 174],\n",
       "        ..., \n",
       "        [109, 164, 203],\n",
       "        [111, 166, 205],\n",
       "        [113, 168, 207]],\n",
       "\n",
       "       [[106, 146, 174],\n",
       "        [106, 146, 174],\n",
       "        [106, 146, 174],\n",
       "        ..., \n",
       "        [ 91, 146, 185],\n",
       "        [ 95, 150, 189],\n",
       "        [ 99, 154, 193]],\n",
       "\n",
       "       [[103, 143, 171],\n",
       "        [103, 143, 171],\n",
       "        [104, 144, 172],\n",
       "        ..., \n",
       "        [ 83, 138, 177],\n",
       "        [ 86, 141, 180],\n",
       "        [ 90, 145, 184]]], dtype=uint8)"
      ]
     },
     "execution_count": 27,
     "metadata": {},
     "output_type": "execute_result"
    }
   ],
   "source": [
    "tempgen = get_next_image_generator(driving_log_df)\n",
    "sample = next(tempgen)\n",
    "print(\"Dimension of image: H x W X D = \", sample.shape)\n",
    "print(\"# of images: \", len(driving_log_df))\n",
    "\n",
    "print(\"Steering range: Min=\", np.min(driving_log_df['steering']), \" , Max=\", np.max(driving_log_df['steering']))\n",
    "print(\"Throttle range: Min=\", np.min(driving_log_df['throttle']), \" , Max=\", np.max(driving_log_df['throttle']))\n",
    "print(\"Brake range: Min=\", np.min(driving_log_df['brake']), \" , Max=\", np.max(driving_log_df['brake']))\n",
    "print(\"Speed range: Min=\", np.min(driving_log_df['speed']), \" , Max=\", np.max(driving_log_df['speed']))\n",
    "\n",
    "print(\"image Min: \", np.min(sample))\n",
    "print(\"image Max: \", np.max(sample))\n",
    "sample"
   ]
  },
  {
   "cell_type": "code",
   "execution_count": 28,
   "metadata": {
    "collapsed": false
   },
   "outputs": [],
   "source": [
    "def get_next_feature(df, batch_size = 10, mode = 'train', position = 'center', offset = 0.1, val_portion = 0.2, include_mirror=True, steering_multiplier=1.0):\n",
    "    df['mirror'] = False\n",
    "    if include_mirror:\n",
    "        dfMirror = df.copy()\n",
    "        dfMirror['mirror'] = True\n",
    "        dfMirror['steering'] = -dfMirror['steering']\n",
    "        df = pd.concat([df, dfMirror])\n",
    "        \n",
    "    if position == 'all':\n",
    "        dfLeft = df.copy()\n",
    "        dfLeft['target'] = 'left'\n",
    "        dfCenter = df.copy()\n",
    "        dfCenter['target'] = 'center'\n",
    "        dfRight = df.copy()\n",
    "        dfRight['target'] = 'right'\n",
    "        df = pd.concat([dfLeft, dfCenter, dfRight])\n",
    "    else:\n",
    "        df['target'] = position\n",
    "        \n",
    "    #Shuffle\n",
    "    df = df.sample(frac=1).reset_index(drop=True)\n",
    "    \n",
    "    total_len = len(df)\n",
    "    val_len = int(val_portion * total_len)\n",
    "    train_len = total_len - val_len\n",
    "    \n",
    "    if mode == \"train\":\n",
    "        df = df[:train_len]\n",
    "    else:\n",
    "        df = df[train_len:]\n",
    "    \n",
    "    row = df.iloc[0]\n",
    "    sample_image = cv2.imread(row[row['target']])\n",
    "\n",
    "    image_size = sample_image.shape\n",
    "\n",
    "    inputs = np.zeros([batch_size, *image_size]) #length of prediction output\n",
    "    targets = np.zeros([batch_size])\n",
    "    \n",
    "    count = 0\n",
    "    \n",
    "    while(True):\n",
    "        for idx in range(len(df)):\n",
    "            row = df.iloc[idx]\n",
    "            image_path = row[row['target']]\n",
    "            img = cv2.imread(image_path)\n",
    "            img = img[np.newaxis, :, :, :]\n",
    "\n",
    "            if row['mirror']:\n",
    "                img = img[:,::-1,:]\n",
    "\n",
    "            inputs[count] = img\n",
    "            targets[count] = row['steering']\n",
    "            if row['target'] == 'right':\n",
    "                targets[count] -= offset\n",
    "            elif row['target'] == 'left':\n",
    "                targets[count] += offset\n",
    "            \n",
    "            targets[count] *= steering_multiplier\n",
    "            \n",
    "            count += 1\n",
    "            if count == batch_size:\n",
    "                yield inputs, targets\n",
    "                inputs = np.zeros([batch_size, *image_size])\n",
    "                targets = np.zeros([batch_size])\n",
    "                count = 0\n",
    "                \n"
   ]
  },
  {
   "cell_type": "code",
   "execution_count": 29,
   "metadata": {
    "collapsed": false
   },
   "outputs": [],
   "source": [
    "# Define the model\n",
    "\n",
    "#model = Model() # The nVidia model\n",
    "model = Model(dropout=0.5, dropout_level=2, orig = False)"
   ]
  },
  {
   "cell_type": "code",
   "execution_count": 30,
   "metadata": {
    "collapsed": false,
    "scrolled": false
   },
   "outputs": [
    {
     "name": "stdout",
     "output_type": "stream",
     "text": [
      "Epoch 1/5\n",
      "2s - loss: 0.0375 - acc: 0.0000e+00 - val_loss: 0.0219 - val_acc: 0.0200\n",
      "Epoch 2/5\n",
      "1s - loss: 0.0247 - acc: 0.0167 - val_loss: 0.0187 - val_acc: 0.0000e+00\n",
      "Epoch 3/5\n",
      "1s - loss: 0.0210 - acc: 0.0067 - val_loss: 0.0294 - val_acc: 0.0000e+00\n",
      "Epoch 4/5\n",
      "1s - loss: 0.0216 - acc: 0.0033 - val_loss: 0.0192 - val_acc: 0.0000e+00\n",
      "Epoch 5/5\n",
      "1s - loss: 0.0149 - acc: 0.0033 - val_loss: 0.0318 - val_acc: 0.0000e+00\n"
     ]
    },
    {
     "data": {
      "text/plain": [
       "<keras.callbacks.History at 0x7fa479ec79b0>"
      ]
     },
     "execution_count": 30,
     "metadata": {},
     "output_type": "execute_result"
    }
   ],
   "source": [
    "model.compile(optimizer='adam', loss='mean_squared_error', metrics=[\"accuracy\"])\n",
    "\n",
    "# train model\n",
    "EPOCHS = 5\n",
    "BATCH_SIZE = 300\n",
    "OFFSET = 0.1 #0.034 radians is 2 degrees\n",
    "VAL_PORTION = 0.2\n",
    "INCLUDE_MIRROR = True\n",
    "STEERING_MULTIPLIER = 1.0\n",
    "\n",
    "# Train on all the data\n",
    "position = 'all'\n",
    "train_generator_all = get_next_feature(driving_log_df, 10, 'train', position, OFFSET, VAL_PORTION, INCLUDE_MIRROR, STEERING_MULTIPLIER)\n",
    "validation_generator_all = get_next_feature(driving_log_df, 10, 'val', position, OFFSET, VAL_PORTION, INCLUDE_MIRROR, STEERING_MULTIPLIER)\n",
    "model.fit_generator(train_generator_all, BATCH_SIZE, EPOCHS, verbose=2, validation_data=validation_generator_all, nb_val_samples=BATCH_SIZE/3)\n",
    "\n",
    "# driving_log_df\n",
    "\n"
   ]
  },
  {
   "cell_type": "code",
   "execution_count": 31,
   "metadata": {
    "collapsed": false
   },
   "outputs": [
    {
     "name": "stdout",
     "output_type": "stream",
     "text": [
      "Epoch 1/5\n",
      "1s - loss: 0.0220 - acc: 0.0433 - val_loss: 0.0262 - val_acc: 0.0100\n",
      "Epoch 2/5\n",
      "1s - loss: 0.0239 - acc: 0.0167 - val_loss: 0.0243 - val_acc: 0.0300\n",
      "Epoch 3/5\n",
      "1s - loss: 0.0273 - acc: 0.0200 - val_loss: 0.0215 - val_acc: 0.0000e+00\n",
      "Epoch 4/5\n",
      "1s - loss: 0.0244 - acc: 0.0233 - val_loss: 0.0190 - val_acc: 0.0400\n",
      "Epoch 5/5\n",
      "1s - loss: 0.0234 - acc: 0.0400 - val_loss: 0.0299 - val_acc: 0.0000e+00\n"
     ]
    },
    {
     "data": {
      "text/plain": [
       "<keras.callbacks.History at 0x7fa479f857b8>"
      ]
     },
     "execution_count": 31,
     "metadata": {},
     "output_type": "execute_result"
    }
   ],
   "source": [
    "# Force learn problem areas\n",
    "track1_dir = '/home/carnd/Dropbox/udacity-data/track1'\n",
    "folders_to_include = ['trial3-avoid', 'trial3-avoidb', 'trial1_offroad_fwd', 'trial1_offroad_bwd']\n",
    "track1_data_dirs = [track1_dir + '/' + x for x in folders_to_include]\n",
    "\n",
    "driving_log_df = None\n",
    "\n",
    "for data_dir in track1_data_dirs:\n",
    "    df = pd.read_csv(data_dir + \"/driving_log.csv\", header=None, names=[\"center\",\"left\",\"right\",\"steering\",\"throttle\",\"brake\",\"speed\"])\n",
    "\n",
    "    cols = ['center', 'left', 'right']\n",
    "    for col in cols:\n",
    "        df[col] = df[col].str.strip()\n",
    "        df[col] = df[col].str.split(\"/\").apply(lambda x: x[-1])\n",
    "    df[['center', 'left', 'right']] = data_dir + \"/IMG/\" + df[['center', 'left', 'right']]\n",
    "#    \"/home/carnd/Dropbox/udacity-data/track1/trial1_offroad_fwd//Users/macbook/Development/personal/udacity-car/CarND-Behavioral-Cloning-P3/trial1_offroad_fwd/IMG/center_2017_02_19_10_05_58_231.jpg\"\n",
    "    \n",
    "    if driving_log_df is None:\n",
    "        driving_log_df = df\n",
    "    else:\n",
    "        driving_log_df = pd.concat([driving_log_df, df])\n",
    "\n",
    "# # shuffle\n",
    "# np.random.seed(42)\n",
    "# driving_log_df = driving_log_df.reindex(np.random.permutation(driving_log_df.index), copy=False)\n",
    "\n",
    "train_generator_all = get_next_feature(driving_log_df, 10, 'train', position, OFFSET, VAL_PORTION, INCLUDE_MIRROR)\n",
    "validation_generator_all = get_next_feature(driving_log_df, 10, 'val', position, OFFSET, VAL_PORTION, INCLUDE_MIRROR)\n",
    "model.fit_generator(train_generator_all, BATCH_SIZE, EPOCHS, verbose=2, validation_data=validation_generator_all, nb_val_samples=BATCH_SIZE/3)\n"
   ]
  },
  {
   "cell_type": "code",
   "execution_count": 32,
   "metadata": {
    "collapsed": false
   },
   "outputs": [],
   "source": [
    "model.save('model.h5')\n",
    "\n",
    "# # returns a compiled model\n",
    "# # identical to the previous one\n",
    "# model = load_model('model.h5')"
   ]
  },
  {
   "cell_type": "code",
   "execution_count": 33,
   "metadata": {
    "collapsed": false
   },
   "outputs": [],
   "source": [
    "# # Test to determine offset parameter\n",
    "# for offset in range(0, 100, 5):\n",
    "#     offset = offset * 0.01\n",
    "#     print(\"Offset = \", offset)\n",
    "    \n",
    "#     EPOCHS=5\n",
    "#     train_gen = get_next_feature(driving_log_df, 10, 'train', 'right', OFFSET, VAL_PORTION, INCLUDE_MIRROR)\n",
    "#     val_gen = get_next_feature(driving_log_df, 10, 'val', 'center', offset, VAL_PORTION, INCLUDE_MIRROR)\n",
    "\n",
    "#     # want to produce center training data, then test on \n",
    "#     model.fit_generator(train_gen, BATCH_SIZE, EPOCHS, verbose=2, validation_data=val_gen, nb_val_samples=BATCH_SIZE/3)\n"
   ]
  },
  {
   "cell_type": "code",
   "execution_count": null,
   "metadata": {
    "collapsed": false
   },
   "outputs": [],
   "source": []
  },
  {
   "cell_type": "code",
   "execution_count": null,
   "metadata": {
    "collapsed": false
   },
   "outputs": [],
   "source": []
  },
  {
   "cell_type": "code",
   "execution_count": null,
   "metadata": {
    "collapsed": true
   },
   "outputs": [],
   "source": []
  }
 ],
 "metadata": {
  "kernelspec": {
   "display_name": "Python 3",
   "language": "python",
   "name": "python3"
  },
  "language_info": {
   "codemirror_mode": {
    "name": "ipython",
    "version": 3
   },
   "file_extension": ".py",
   "mimetype": "text/x-python",
   "name": "python",
   "nbconvert_exporter": "python",
   "pygments_lexer": "ipython3",
   "version": "3.5.2"
  },
  "widgets": {
   "state": {},
   "version": "1.1.2"
  }
 },
 "nbformat": 4,
 "nbformat_minor": 2
}
