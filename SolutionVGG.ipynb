{
 "cells": [
  {
   "cell_type": "code",
   "execution_count": 209,
   "metadata": {
    "collapsed": true
   },
   "outputs": [],
   "source": [
    "import pandas as pd\n",
    "from pandas import DataFrame, Series\n",
    "import numpy as np\n",
    "import random\n",
    "from keras.models import load_model, Sequential, Model\n",
    "from keras.layers import Cropping2D\n",
    "import cv2\n"
   ]
  },
  {
   "cell_type": "code",
   "execution_count": 210,
   "metadata": {
    "collapsed": false
   },
   "outputs": [],
   "source": [
    "from keras.models import Sequential\n",
    "from keras.layers.core import Flatten, Dense, Dropout\n",
    "from keras.layers.convolutional import Convolution2D, MaxPooling2D, ZeroPadding2D\n",
    "from keras.optimizers import SGD\n",
    "import cv2, numpy as np\n",
    "\n",
    "def VGG_16(weights_path=None):\n",
    "    model = Sequential()\n",
    "    model.add(ZeroPadding2D((1,1),input_shape=(3,224,224), name=\"1\"))\n",
    "    model.add(Convolution2D(64, 3, 3, activation='relu', name=\"2\"))\n",
    "    model.add(ZeroPadding2D((1,1), name=\"3\"))\n",
    "    model.add(Convolution2D(64, 3, 3, activation='relu', name=\"4\"))\n",
    "    model.add(MaxPooling2D((2,2), strides=(2,2), name=\"5\"))\n",
    "\n",
    "    model.add(ZeroPadding2D((1,1), name=\"6\"))\n",
    "    model.add(Convolution2D(128, 3, 3, activation='relu', name=\"7\"))\n",
    "    model.add(ZeroPadding2D((1,1), name=\"8\"))\n",
    "    model.add(Convolution2D(128, 3, 3, activation='relu', name=\"9\"))\n",
    "    model.add(MaxPooling2D((2,2), strides=(2,2), name=\"10\"))\n",
    "\n",
    "    model.add(ZeroPadding2D((1,1), name=\"11\"))\n",
    "    model.add(Convolution2D(256, 3, 3, activation='relu', name=\"12\"))\n",
    "    model.add(ZeroPadding2D((1,1), name=\"13\"))\n",
    "    model.add(Convolution2D(256, 3, 3, activation='relu', name=\"14\"))\n",
    "    model.add(ZeroPadding2D((1,1), name=\"15\"))\n",
    "    model.add(Convolution2D(256, 3, 3, activation='relu', name=\"16\"))\n",
    "    model.add(MaxPooling2D((2,2), strides=(2,2), name=\"17\"))\n",
    "\n",
    "    model.add(ZeroPadding2D((1,1), name=\"18\"))\n",
    "    model.add(Convolution2D(512, 3, 3, activation='relu', name=\"19\"))\n",
    "    model.add(ZeroPadding2D((1,1), name=\"20\"))\n",
    "    model.add(Convolution2D(512, 3, 3, activation='relu', name=\"21\"))\n",
    "    model.add(ZeroPadding2D((1,1), name=\"22\"))\n",
    "    model.add(Convolution2D(512, 3, 3, activation='relu', name=\"23\"))\n",
    "    model.add(MaxPooling2D((2,2), strides=(2,2), name=\"24\"))\n",
    "\n",
    "    model.add(ZeroPadding2D((1,1), name=\"25\"))\n",
    "    model.add(Convolution2D(512, 3, 3, activation='relu', name=\"26\"))\n",
    "    model.add(ZeroPadding2D((1,1), name=\"27\"))\n",
    "    model.add(Convolution2D(512, 3, 3, activation='relu', name=\"28\"))\n",
    "    model.add(ZeroPadding2D((1,1), name=\"29\"))\n",
    "    model.add(Convolution2D(512, 3, 3, activation='relu', name=\"30\"))\n",
    "    model.add(MaxPooling2D((2,2), strides=(2,2), name=\"31\"))\n",
    "\n",
    "    model.add(Flatten(name=\"32\"))\n",
    "    model.add(Dense(4096, activation='relu', name=\"33\"))\n",
    "    model.add(Dropout(0.5, name=\"34\"))\n",
    "    model.add(Dense(4096, activation='relu', name=\"35\"))\n",
    "    model.add(Dropout(0.5, name=\"36\"))\n",
    "    #model.add(Dense(1000, activation='softmax', name=\"37\"))\n",
    "\n",
    "    if weights_path:\n",
    "        model.load_weights(weights_path, by_name=True)\n",
    "\n",
    "    return model"
   ]
  },
  {
   "cell_type": "code",
   "execution_count": null,
   "metadata": {
    "collapsed": false
   },
   "outputs": [],
   "source": []
  },
  {
   "cell_type": "code",
   "execution_count": 211,
   "metadata": {
    "collapsed": false
   },
   "outputs": [
    {
     "data": {
      "text/html": [
       "<div>\n",
       "<table border=\"1\" class=\"dataframe\">\n",
       "  <thead>\n",
       "    <tr style=\"text-align: right;\">\n",
       "      <th></th>\n",
       "      <th>center</th>\n",
       "      <th>left</th>\n",
       "      <th>right</th>\n",
       "      <th>steering</th>\n",
       "      <th>throttle</th>\n",
       "      <th>brake</th>\n",
       "      <th>speed</th>\n",
       "    </tr>\n",
       "  </thead>\n",
       "  <tbody>\n",
       "    <tr>\n",
       "      <th>6637</th>\n",
       "      <td>data_download/IMG/center_2016_12_01_13_44_19_9...</td>\n",
       "      <td>data_download/ IMG/left_2016_12_01_13_44_19_95...</td>\n",
       "      <td>data_download/ IMG/right_2016_12_01_13_44_19_9...</td>\n",
       "      <td>-0.097735</td>\n",
       "      <td>0.985533</td>\n",
       "      <td>0.0</td>\n",
       "      <td>30.18678</td>\n",
       "    </tr>\n",
       "    <tr>\n",
       "      <th>6632</th>\n",
       "      <td>data_download/IMG/center_2016_12_01_13_44_19_4...</td>\n",
       "      <td>data_download/ IMG/left_2016_12_01_13_44_19_44...</td>\n",
       "      <td>data_download/ IMG/right_2016_12_01_13_44_19_4...</td>\n",
       "      <td>-0.078746</td>\n",
       "      <td>0.985533</td>\n",
       "      <td>0.0</td>\n",
       "      <td>30.18562</td>\n",
       "    </tr>\n",
       "    <tr>\n",
       "      <th>7327</th>\n",
       "      <td>data_download/IMG/center_2016_12_01_13_45_29_9...</td>\n",
       "      <td>data_download/ IMG/left_2016_12_01_13_45_29_92...</td>\n",
       "      <td>data_download/ IMG/right_2016_12_01_13_45_29_9...</td>\n",
       "      <td>-0.002791</td>\n",
       "      <td>0.985533</td>\n",
       "      <td>0.0</td>\n",
       "      <td>30.18650</td>\n",
       "    </tr>\n",
       "    <tr>\n",
       "      <th>730</th>\n",
       "      <td>data_download/IMG/center_2016_12_01_13_33_52_2...</td>\n",
       "      <td>data_download/ IMG/left_2016_12_01_13_33_52_24...</td>\n",
       "      <td>data_download/ IMG/right_2016_12_01_13_33_52_2...</td>\n",
       "      <td>0.000000</td>\n",
       "      <td>0.985533</td>\n",
       "      <td>0.0</td>\n",
       "      <td>30.18665</td>\n",
       "    </tr>\n",
       "    <tr>\n",
       "      <th>1515</th>\n",
       "      <td>data_download/IMG/center_2016_12_01_13_35_11_8...</td>\n",
       "      <td>data_download/ IMG/left_2016_12_01_13_35_11_81...</td>\n",
       "      <td>data_download/ IMG/right_2016_12_01_13_35_11_8...</td>\n",
       "      <td>0.000000</td>\n",
       "      <td>0.985533</td>\n",
       "      <td>0.0</td>\n",
       "      <td>30.18685</td>\n",
       "    </tr>\n",
       "  </tbody>\n",
       "</table>\n",
       "</div>"
      ],
      "text/plain": [
       "                                                 center  \\\n",
       "6637  data_download/IMG/center_2016_12_01_13_44_19_9...   \n",
       "6632  data_download/IMG/center_2016_12_01_13_44_19_4...   \n",
       "7327  data_download/IMG/center_2016_12_01_13_45_29_9...   \n",
       "730   data_download/IMG/center_2016_12_01_13_33_52_2...   \n",
       "1515  data_download/IMG/center_2016_12_01_13_35_11_8...   \n",
       "\n",
       "                                                   left  \\\n",
       "6637  data_download/ IMG/left_2016_12_01_13_44_19_95...   \n",
       "6632  data_download/ IMG/left_2016_12_01_13_44_19_44...   \n",
       "7327  data_download/ IMG/left_2016_12_01_13_45_29_92...   \n",
       "730   data_download/ IMG/left_2016_12_01_13_33_52_24...   \n",
       "1515  data_download/ IMG/left_2016_12_01_13_35_11_81...   \n",
       "\n",
       "                                                  right  steering  throttle  \\\n",
       "6637  data_download/ IMG/right_2016_12_01_13_44_19_9... -0.097735  0.985533   \n",
       "6632  data_download/ IMG/right_2016_12_01_13_44_19_4... -0.078746  0.985533   \n",
       "7327  data_download/ IMG/right_2016_12_01_13_45_29_9... -0.002791  0.985533   \n",
       "730   data_download/ IMG/right_2016_12_01_13_33_52_2...  0.000000  0.985533   \n",
       "1515  data_download/ IMG/right_2016_12_01_13_35_11_8...  0.000000  0.985533   \n",
       "\n",
       "      brake     speed  \n",
       "6637    0.0  30.18678  \n",
       "6632    0.0  30.18562  \n",
       "7327    0.0  30.18650  \n",
       "730     0.0  30.18665  \n",
       "1515    0.0  30.18685  "
      ]
     },
     "execution_count": 211,
     "metadata": {},
     "output_type": "execute_result"
    }
   ],
   "source": [
    "data_dir = \"data_download\"\n",
    "\n",
    "driving_log_df = pd.read_csv(data_dir + \"/driving_log.csv\")\n",
    "driving_log_df[['center', 'left', 'right']] = data_dir + \"/\" + driving_log_df[['center', 'left', 'right']]\n",
    "\n",
    "# shuffle\n",
    "np.random.seed(42)\n",
    "driving_log_df = driving_log_df.reindex(np.random.permutation(driving_log_df.index), copy=False)\n",
    "\n",
    "driving_log_df.head()"
   ]
  },
  {
   "cell_type": "code",
   "execution_count": 212,
   "metadata": {
    "collapsed": false
   },
   "outputs": [],
   "source": [
    "def get_next_image_generator(df, position = 'center'):\n",
    "    for idx, image_path in enumerate(df[position]):\n",
    "        img = cv2.imread(image_path)\n",
    "#         steering = df['steering'].iloc[idx]\n",
    "#         throttle = df['throttle'].iloc[idx]\n",
    "#         brake = df['brake'].iloc[idx]\n",
    "#         speed = df['speed'].iloc[idx]\n",
    "        \n",
    "        yield img\n",
    "        #yield img, steering, throttle, brake, speed\n"
   ]
  },
  {
   "cell_type": "code",
   "execution_count": 213,
   "metadata": {
    "collapsed": false,
    "scrolled": true
   },
   "outputs": [
    {
     "name": "stdout",
     "output_type": "stream",
     "text": [
      "Dimension of image: H x W X D =  (160, 320, 3)\n",
      "# of images:  8036\n",
      "Steering range: Min= -0.9426954  , Max= 1.0\n",
      "Throttle range: Min= 0.0  , Max= 0.9855326\n",
      "Brake range: Min= 0.0  , Max= 1.0\n",
      "Speed range: Min= 0.5024896  , Max= 30.70936\n",
      "image Min:  0\n",
      "image Max:  255\n"
     ]
    },
    {
     "data": {
      "text/plain": [
       "array([[[187, 143, 130],\n",
       "        [185, 141, 128],\n",
       "        [181, 137, 124],\n",
       "        ..., \n",
       "        [ 14,  38,  30],\n",
       "        [ 14,  35,  26],\n",
       "        [  1,  20,  11]],\n",
       "\n",
       "       [[162, 129, 114],\n",
       "        [166, 133, 118],\n",
       "        [171, 138, 123],\n",
       "        ..., \n",
       "        [  0,  15,   6],\n",
       "        [  0,   9,   1],\n",
       "        [ 11,  34,  26]],\n",
       "\n",
       "       [[115,  99,  83],\n",
       "        [122, 106,  90],\n",
       "        [134, 118, 102],\n",
       "        ..., \n",
       "        [154, 184, 179],\n",
       "        [  0,  11,   7],\n",
       "        [  0,   6,   0]],\n",
       "\n",
       "       ..., \n",
       "       [[ 91, 105, 104],\n",
       "        [ 97, 111, 110],\n",
       "        [101, 115, 114],\n",
       "        ..., \n",
       "        [ 82,  96,  95],\n",
       "        [ 75,  89,  88],\n",
       "        [ 78,  92,  91]],\n",
       "\n",
       "       [[110, 124, 123],\n",
       "        [ 99, 113, 112],\n",
       "        [ 87, 101, 100],\n",
       "        ..., \n",
       "        [ 90, 104, 103],\n",
       "        [ 85,  99,  98],\n",
       "        [ 87, 101, 100]],\n",
       "\n",
       "       [[ 88, 102, 101],\n",
       "        [ 86, 100,  99],\n",
       "        [ 89, 103, 102],\n",
       "        ..., \n",
       "        [ 99, 113, 112],\n",
       "        [101, 115, 114],\n",
       "        [ 91, 105, 104]]], dtype=uint8)"
      ]
     },
     "execution_count": 213,
     "metadata": {},
     "output_type": "execute_result"
    }
   ],
   "source": [
    "tempgen = get_next_image_generator(driving_log_df)\n",
    "sample = next(tempgen)\n",
    "print(\"Dimension of image: H x W X D = \", sample.shape)\n",
    "print(\"# of images: \", len(driving_log_df))\n",
    "\n",
    "print(\"Steering range: Min=\", np.min(driving_log_df['steering']), \" , Max=\", np.max(driving_log_df['steering']))\n",
    "print(\"Throttle range: Min=\", np.min(driving_log_df['throttle']), \" , Max=\", np.max(driving_log_df['throttle']))\n",
    "print(\"Brake range: Min=\", np.min(driving_log_df['brake']), \" , Max=\", np.max(driving_log_df['brake']))\n",
    "print(\"Speed range: Min=\", np.min(driving_log_df['speed']), \" , Max=\", np.max(driving_log_df['speed']))\n",
    "\n",
    "print(\"image Min: \", np.min(sample))\n",
    "print(\"image Max: \", np.max(sample))\n",
    "sample"
   ]
  },
  {
   "cell_type": "code",
   "execution_count": 214,
   "metadata": {
    "collapsed": false
   },
   "outputs": [
    {
     "data": {
      "text/plain": [
       "<matplotlib.image.AxesImage at 0x13288af60>"
      ]
     },
     "execution_count": 214,
     "metadata": {},
     "output_type": "execute_result"
    },
    {
     "data": {
      "image/png": "[encoded data removed]",
      "text/plain": [
       "<matplotlib.figure.Figure at 0x12d377780>"
      ]
     },
     "metadata": {},
     "output_type": "display_data"
    }
   ],
   "source": [
    "import matplotlib.pyplot as plt\n",
    "import matplotlib\n",
    "%matplotlib inline\n",
    "\n",
    "#TODO: Make corners arithmetic generic\n",
    "#(x,y), (x,y)\n",
    "\n",
    "def crop_and_scale(sample):\n",
    "    \"\"\"\n",
    "    Takes a landscape image and fits it into a 448x448 square (scaling as necessary)\n",
    "    \"\"\"\n",
    "    new_image = np.zeros((448, 448, sample.shape[2]),dtype=np.float32)\n",
    "    \n",
    "    x = 0\n",
    "    y = 0\n",
    "    sample = cv2.resize(sample, (448, int(448/sample.shape[1]*sample.shape[0])))\n",
    "    new_image[x:x+sample.shape[0], y:y+sample.shape[1], :] = sample\n",
    "\n",
    "    \n",
    "    # downsample\n",
    "    new_image = new_image[::2, ::2, :]\n",
    "    \n",
    "    #     corners = (80, 0), (240, 160)\n",
    "    #     cropped_sample = sample[corners[0][1]:corners[1][1], corners[0][0]:corners[1][0], :]\n",
    "    #     cropped_and_upscaled = cv2.resize(cropped_sample, (224, 224))\n",
    "    # return cropped_and_upscaled\n",
    "    \n",
    "    return new_image\n",
    "\n",
    "cropped_and_upscaled = crop_and_scale(sample)\n",
    "#print(\"Cropped and upscaled image shape: \", cropped_and_upscaled.shape)\n",
    "plt.imshow(cropped_and_upscaled)\n",
    "\n",
    "# resize\n"
   ]
  },
  {
   "cell_type": "code",
   "execution_count": 215,
   "metadata": {
    "collapsed": true
   },
   "outputs": [],
   "source": [
    "steering, throttle, brake, speed = driving_log_df['steering'], \\\n",
    "                                    driving_log_df['throttle'], \\\n",
    "                                    driving_log_df['brake'], \\\n",
    "                                    driving_log_df['speed']\n",
    "            \n",
    "# Need to output steering angle\n",
    "\n"
   ]
  },
  {
   "cell_type": "code",
   "execution_count": 286,
   "metadata": {
    "collapsed": false
   },
   "outputs": [
    {
     "name": "stdout",
     "output_type": "stream",
     "text": [
      "data_download/IMG/center_2016_12_01_13_45_29_926.jpg\n"
     ]
    }
   ],
   "source": [
    "# Raw data input: (8036, 160, 320, 3)\n",
    "position = 'center'\n",
    "val_portion = 0.2\n",
    "total_len = len(driving_log_df)\n",
    "val_len = int(val_portion * total_len)\n",
    "train_len = total_len - val_len\n",
    "\n",
    "# Process the data with cropping and scaling ()\n",
    "\n",
    "def get_next_bottleneck_feature(df, batch_size = 32, mode = 'train', position = 'center', val_portion = 0.2):\n",
    "    \"\"\"\n",
    "    Assumes df is already shuffled\n",
    "    \"\"\"\n",
    "    total_len = len(df)\n",
    "    val_len = int(val_portion * total_len)\n",
    "    train_len = total_len - val_len\n",
    "    if mode == \"train\":\n",
    "        df = df[:train_len]\n",
    "    else:\n",
    "        df = df[train_len:]\n",
    "        \n",
    "    model = VGG_16('vgg16_weights_abbrev.h5') # This is the 16 layer VGG layer with the final Softmax Removed\n",
    "    \n",
    "    image_size = cv2.imread(df['center'].iloc[0]).shape\n",
    "    inputs = np.zeros([batch_size, 4096]) #length of prediction output\n",
    "    targets = np.zeros([batch_size])\n",
    "    \n",
    "    count = 0\n",
    "    \n",
    "    while(True):\n",
    "        for idx in range(len(df)):\n",
    "            image_path = df[position].iloc[idx]\n",
    "            img = cv2.imread(image_path)\n",
    "\n",
    "            scaled_image = crop_and_scale(img)\n",
    "            scaled_image = scaled_image[np.newaxis, :, :, :]\n",
    "            scaled_image = np.rollaxis(scaled_image, 3, 1)        \n",
    "            pred_input = model.predict(scaled_image)\n",
    "\n",
    "            inputs[count] = pred_input\n",
    "            targets[count] = df.iloc[idx]['steering']\n",
    "\n",
    "            count += 1\n",
    "            if count == batch_size:\n",
    "                yield inputs, targets\n",
    "                inputs = np.zeros([batch_size, 4096])\n",
    "                targets = np.zeros([batch_size])\n",
    "                count = 0\n",
    "\n",
    "print(driving_log_df['center'].iloc[2])\n",
    "\n",
    "train_generator_center = get_next_bottleneck_feature(driving_log_df, 10, 'train', position, val_portion)\n",
    "validation_generator_center = get_next_bottleneck_feature(driving_log_df, 10, 'val', position, val_portion)\n",
    "\n",
    "#next(train_generator_center)\n",
    "# Input: 224 x 224 x 3\n",
    "# Output: 4096 (the softmax layer had 1000 neurons)\n",
    "\n",
    "# We need to run it to transform the input data.\n",
    "\n",
    "# Steering range is between -1 and 1."
   ]
  },
  {
   "cell_type": "code",
   "execution_count": 287,
   "metadata": {
    "collapsed": false
   },
   "outputs": [],
   "source": [
    "# Define the model\n",
    "\n",
    "# # set up cropping2D layer\n",
    "# model = Sequential()\n",
    "# model.add(Cropping2D(cropping=((50,20), (0,0)), input_shape=(160,320,3)))\n",
    "\n",
    "# # set up lambda layer\n",
    "# model = Sequential()\n",
    "# model.add(Lambda(lambda x: (x / 255.0) - 0.5, input_shape=(160,320,3)))\n",
    "\n",
    "model = Sequential()\n",
    "model.add(Dense(4096, activation='relu', input_shape=(4096,)))\n",
    "model.add(Dropout(0.5))\n",
    "model.add(Dense(4096, activation='relu'))\n",
    "model.add(Dropout(0.5))\n",
    "model.add(Dense(1, activation='tanh'))"
   ]
  },
  {
   "cell_type": "code",
   "execution_count": 288,
   "metadata": {
    "collapsed": false
   },
   "outputs": [
    {
     "name": "stdout",
     "output_type": "stream",
     "text": [
      "Epoch 1/5\n",
      "122s - loss: 1.0272 - val_loss: 1.0688\n",
      "Epoch 2/5\n",
      "53s - loss: 1.0669 - val_loss: 1.0382\n",
      "Epoch 3/5\n",
      "63s - loss: 0.9102 - val_loss: 1.0072\n",
      "Epoch 4/5\n",
      "66s - loss: 0.9575 - val_loss: 0.9345\n",
      "Epoch 5/5\n",
      "67s - loss: 0.9957 - val_loss: 1.0722\n"
     ]
    },
    {
     "data": {
      "text/plain": [
       "<keras.callbacks.History at 0x1289b45c0>"
      ]
     },
     "execution_count": 288,
     "metadata": {},
     "output_type": "execute_result"
    }
   ],
   "source": [
    "model.compile(optimizer='adam', loss='mean_squared_error')\n",
    "\n",
    "# train model\n",
    "EPOCHS = 5 #5\n",
    "BATCH_SIZE = 30\n",
    "\n",
    "model.fit_generator(train_generator_center, BATCH_SIZE, EPOCHS, verbose=2, validation_data=validation_generator_center, nb_val_samples=BATCH_SIZE/3)"
   ]
  },
  {
   "cell_type": "code",
   "execution_count": 219,
   "metadata": {
    "collapsed": false
   },
   "outputs": [],
   "source": [
    "# # GAVIN TODO - use model.h5\n",
    "# model.save('model.h5')  # creates a HDF5 file 'model.h5'\n",
    "# del model  # deletes the existing model\n",
    "\n",
    "# # returns a compiled model\n",
    "# # identical to the previous one\n",
    "# model = load_model('model.h5')"
   ]
  },
  {
   "cell_type": "code",
   "execution_count": null,
   "metadata": {
    "collapsed": true
   },
   "outputs": [],
   "source": []
  },
  {
   "cell_type": "code",
   "execution_count": null,
   "metadata": {
    "collapsed": true
   },
   "outputs": [],
   "source": []
  }
 ],
 "metadata": {
  "kernelspec": {
   "display_name": "Python 3",
   "language": "python",
   "name": "python3"
  },
  "language_info": {
   "codemirror_mode": {
    "name": "ipython",
    "version": 3
   },
   "file_extension": ".py",
   "mimetype": "text/x-python",
   "name": "python",
   "nbconvert_exporter": "python",
   "pygments_lexer": "ipython3",
   "version": "3.5.2"
  },
  "widgets": {
   "state": {},
   "version": "1.1.2"
  }
 },
 "nbformat": 4,
 "nbformat_minor": 2
}
