{
 "cells": [
  {
   "cell_type": "code",
   "execution_count": 35,
   "metadata": {
    "collapsed": false
   },
   "outputs": [],
   "source": [
    "import pandas as pd\n",
    "from pandas import DataFrame, Series\n",
    "import numpy as np\n",
    "import random\n",
    "from keras.models import load_model, Sequential, Model\n",
    "from keras.layers import Cropping2D\n",
    "import cv2\n",
    "import os\n"
   ]
  },
  {
   "cell_type": "code",
   "execution_count": 36,
   "metadata": {
    "collapsed": false
   },
   "outputs": [],
   "source": [
    "from keras.models import Sequential\n",
    "from keras.layers.core import Flatten, Dense, Dropout, Lambda\n",
    "from keras.layers.convolutional import Convolution2D, MaxPooling2D, ZeroPadding2D\n",
    "from keras.optimizers import SGD\n",
    "import cv2, numpy as np\n",
    "\n",
    "def Model(weights_path=None, dropout=0.5, dropout_level=1, orig = True):\n",
    "    if orig:\n",
    "        model = Sequential()\n",
    "        \n",
    "        # Take 2x2 stride on the input to reduce dimensionality\n",
    "        model.add(Lambda(lambda x: x[::2, ::2, :], input_shape=(160, 320, 3), output_shape=(80, 160, 3))) #(3, 80, 160)\n",
    "        \n",
    "        # Zero pad the width\n",
    "        model.add(ZeroPadding2D(padding=(0, 20))) #(3, 80, 200)\n",
    "        \n",
    "        # Crop the height\n",
    "        model.add(Cropping2D(cropping=((80-66, 0), (0, 0)))) #(3, 66, 200)\n",
    "        \n",
    "        # Normalize\n",
    "        model.add(Lambda(lambda x: (x / 255.0) - 0.5, output_shape=(66, 200, 3)))\n",
    "        \n",
    "        # Original network\n",
    "        model.add(Dropout(dropout)) if dropout_level >= 2 else None\n",
    "        model.add(Convolution2D(24, 5, 5, border_mode='valid', subsample=(2,2), activation='relu')) #(24, 31, 98)\n",
    "        model.add(Dropout(dropout)) if dropout_level >= 2 else None\n",
    "        model.add(Convolution2D(36, 5, 5, border_mode='valid', subsample=(2,2), activation='relu')) #(36, 14, 47)\n",
    "        model.add(Dropout(dropout)) if dropout_level >= 2 else None\n",
    "        model.add(Convolution2D(48, 5, 5, border_mode='valid', subsample=(2,2), activation='relu')) #(48, 5, 22)\n",
    "        model.add(Dropout(dropout)) if dropout_level >= 2 else None\n",
    "        model.add(Convolution2D(64, 3, 3, border_mode='valid', subsample=(1,1), activation='relu')) #(64, 3, 20)\n",
    "        model.add(Dropout(dropout)) if dropout_level >= 2 else None\n",
    "        model.add(Convolution2D(64, 3, 3, border_mode='valid', subsample=(1,1), activation='relu')) #(64, 1, 18)\n",
    "        model.add(Dropout(dropout)) if dropout_level >= 2 else None\n",
    "        model.add(Flatten())\n",
    "        model.add(Dense(100, activation='relu'))\n",
    "        model.add(Dropout(dropout)) if dropout_level >= 1 else None\n",
    "        model.add(Dense(50, activation='relu'))\n",
    "        model.add(Dropout(dropout)) if dropout_level >= 1 else None\n",
    "        model.add(Dense(10, activation='relu'))\n",
    "        model.add(Dropout(dropout)) if dropout_level >= 1 else None\n",
    "        model.add(Dense(1, activation='tanh'))\n",
    "    else:\n",
    "        model = Sequential()\n",
    "        model.add(Lambda(lambda x: (x / 255.0) - 0.5, input_shape=(160, 320, 3), output_shape=(160, 320, 3)))\n",
    "        model.add(Dropout(dropout)) if dropout_level >= 2 else None\n",
    "        model.add(Convolution2D(24, 5, 5, border_mode='valid', subsample=(3,3), activation='relu')) #(24, 52, 106)\n",
    "        model.add(Dropout(dropout)) if dropout_level >= 2 else None\n",
    "        model.add(Convolution2D(36, 5, 5, border_mode='valid', subsample=(2,2), activation='relu')) #(36, 24, 51)\n",
    "        model.add(Dropout(dropout)) if dropout_level >= 2 else None\n",
    "        model.add(Convolution2D(48, 5, 5, border_mode='valid', subsample=(2,2), activation='relu')) #(48, 10, 24)\n",
    "        model.add(Dropout(dropout)) if dropout_level >= 2 else None\n",
    "        model.add(Convolution2D(64, 3, 3, border_mode='valid', subsample=(1,1), activation='relu')) #(64, 8, 22)\n",
    "        model.add(Dropout(dropout)) if dropout_level >= 2 else None\n",
    "        model.add(Convolution2D(64, 3, 3, border_mode='valid', subsample=(1,1), activation='relu')) #(64, 6, 20)\n",
    "        model.add(Dropout(dropout)) if dropout_level >= 2 else None\n",
    "        model.add(Flatten())\n",
    "        model.add(Dense(100, activation='relu'))\n",
    "        model.add(Dropout(dropout)) if dropout_level >= 1 else None\n",
    "        model.add(Dense(50, activation='relu'))\n",
    "        model.add(Dropout(dropout)) if dropout_level >= 1 else None\n",
    "        model.add(Dense(10, activation='relu'))\n",
    "        model.add(Dropout(dropout)) if dropout_level >= 1 else None\n",
    "        model.add(Dense(1, activation='tanh'))\n",
    "\n",
    "    if weights_path:\n",
    "        model.load_weights(weights_path, by_name=True)\n",
    "\n",
    "    return model"
   ]
  },
  {
   "cell_type": "code",
   "execution_count": 37,
   "metadata": {
    "collapsed": false
   },
   "outputs": [
    {
     "name": "stdout",
     "output_type": "stream",
     "text": [
      "['trial1_offroad_fwd', 'trial2', 'trial2b', 'trial3-avoidb', 'trial3', 'trial1_recovery_fwd', 'trial1_corners_bwd', 'trial3-avoid', 'trial2-corner', 'trial3-corners', 'trial1_offroad_bwd', 'trial1_recovery_bwd', 'trial1_corners_fwd']\n",
      "['trial1_corners_fwd']\n"
     ]
    },
    {
     "ename": "FileNotFoundError",
     "evalue": "File b'/home/carnd/Dropbox/udacity-data/track1/trial3-corners/driving_log.csv' does not exist",
     "output_type": "error",
     "traceback": [
      "\u001b[0;31m---------------------------------------------------------------------------\u001b[0m",
      "\u001b[0;31mFileNotFoundError\u001b[0m                         Traceback (most recent call last)",
      "\u001b[0;32m<ipython-input-37-d016d95a00c6>\u001b[0m in \u001b[0;36m<module>\u001b[0;34m()\u001b[0m\n\u001b[1;32m     17\u001b[0m \u001b[0;34m\u001b[0m\u001b[0m\n\u001b[1;32m     18\u001b[0m \u001b[0;32mfor\u001b[0m \u001b[0mdata_dir\u001b[0m \u001b[0;32min\u001b[0m \u001b[0mtrack1_data_dirs\u001b[0m \u001b[0;34m+\u001b[0m \u001b[0mtrack2_data_dirs\u001b[0m\u001b[0;34m:\u001b[0m\u001b[0;34m\u001b[0m\u001b[0m\n\u001b[0;32m---> 19\u001b[0;31m     \u001b[0mdf\u001b[0m \u001b[0;34m=\u001b[0m \u001b[0mpd\u001b[0m\u001b[0;34m.\u001b[0m\u001b[0mread_csv\u001b[0m\u001b[0;34m(\u001b[0m\u001b[0mdata_dir\u001b[0m \u001b[0;34m+\u001b[0m \u001b[0;34m\"/driving_log.csv\"\u001b[0m\u001b[0;34m,\u001b[0m \u001b[0mheader\u001b[0m\u001b[0;34m=\u001b[0m\u001b[0;32mNone\u001b[0m\u001b[0;34m,\u001b[0m \u001b[0mnames\u001b[0m\u001b[0;34m=\u001b[0m\u001b[0;34m[\u001b[0m\u001b[0;34m\"center\"\u001b[0m\u001b[0;34m,\u001b[0m\u001b[0;34m\"left\"\u001b[0m\u001b[0;34m,\u001b[0m\u001b[0;34m\"right\"\u001b[0m\u001b[0;34m,\u001b[0m\u001b[0;34m\"steering\"\u001b[0m\u001b[0;34m,\u001b[0m\u001b[0;34m\"throttle\"\u001b[0m\u001b[0;34m,\u001b[0m\u001b[0;34m\"brake\"\u001b[0m\u001b[0;34m,\u001b[0m\u001b[0;34m\"speed\"\u001b[0m\u001b[0;34m]\u001b[0m\u001b[0;34m)\u001b[0m\u001b[0;34m\u001b[0m\u001b[0m\n\u001b[0m\u001b[1;32m     20\u001b[0m \u001b[0;34m\u001b[0m\u001b[0m\n\u001b[1;32m     21\u001b[0m     \u001b[0mcols\u001b[0m \u001b[0;34m=\u001b[0m \u001b[0;34m[\u001b[0m\u001b[0;34m'center'\u001b[0m\u001b[0;34m,\u001b[0m \u001b[0;34m'left'\u001b[0m\u001b[0;34m,\u001b[0m \u001b[0;34m'right'\u001b[0m\u001b[0;34m]\u001b[0m\u001b[0;34m\u001b[0m\u001b[0m\n",
      "\u001b[0;32m/home/carnd/anaconda3/envs/carnd-term1/lib/python3.5/site-packages/pandas/io/parsers.py\u001b[0m in \u001b[0;36mparser_f\u001b[0;34m(filepath_or_buffer, sep, delimiter, header, names, index_col, usecols, squeeze, prefix, mangle_dupe_cols, dtype, engine, converters, true_values, false_values, skipinitialspace, skiprows, nrows, na_values, keep_default_na, na_filter, verbose, skip_blank_lines, parse_dates, infer_datetime_format, keep_date_col, date_parser, dayfirst, iterator, chunksize, compression, thousands, decimal, lineterminator, quotechar, quoting, escapechar, comment, encoding, dialect, tupleize_cols, error_bad_lines, warn_bad_lines, skipfooter, skip_footer, doublequote, delim_whitespace, as_recarray, compact_ints, use_unsigned, low_memory, buffer_lines, memory_map, float_precision)\u001b[0m\n\u001b[1;32m    644\u001b[0m                     skip_blank_lines=skip_blank_lines)\n\u001b[1;32m    645\u001b[0m \u001b[0;34m\u001b[0m\u001b[0m\n\u001b[0;32m--> 646\u001b[0;31m         \u001b[0;32mreturn\u001b[0m \u001b[0m_read\u001b[0m\u001b[0;34m(\u001b[0m\u001b[0mfilepath_or_buffer\u001b[0m\u001b[0;34m,\u001b[0m \u001b[0mkwds\u001b[0m\u001b[0;34m)\u001b[0m\u001b[0;34m\u001b[0m\u001b[0m\n\u001b[0m\u001b[1;32m    647\u001b[0m \u001b[0;34m\u001b[0m\u001b[0m\n\u001b[1;32m    648\u001b[0m     \u001b[0mparser_f\u001b[0m\u001b[0;34m.\u001b[0m\u001b[0m__name__\u001b[0m \u001b[0;34m=\u001b[0m \u001b[0mname\u001b[0m\u001b[0;34m\u001b[0m\u001b[0m\n",
      "\u001b[0;32m/home/carnd/anaconda3/envs/carnd-term1/lib/python3.5/site-packages/pandas/io/parsers.py\u001b[0m in \u001b[0;36m_read\u001b[0;34m(filepath_or_buffer, kwds)\u001b[0m\n\u001b[1;32m    387\u001b[0m \u001b[0;34m\u001b[0m\u001b[0m\n\u001b[1;32m    388\u001b[0m     \u001b[0;31m# Create the parser.\u001b[0m\u001b[0;34m\u001b[0m\u001b[0;34m\u001b[0m\u001b[0m\n\u001b[0;32m--> 389\u001b[0;31m     \u001b[0mparser\u001b[0m \u001b[0;34m=\u001b[0m \u001b[0mTextFileReader\u001b[0m\u001b[0;34m(\u001b[0m\u001b[0mfilepath_or_buffer\u001b[0m\u001b[0;34m,\u001b[0m \u001b[0;34m**\u001b[0m\u001b[0mkwds\u001b[0m\u001b[0;34m)\u001b[0m\u001b[0;34m\u001b[0m\u001b[0m\n\u001b[0m\u001b[1;32m    390\u001b[0m \u001b[0;34m\u001b[0m\u001b[0m\n\u001b[1;32m    391\u001b[0m     \u001b[0;32mif\u001b[0m \u001b[0;34m(\u001b[0m\u001b[0mnrows\u001b[0m \u001b[0;32mis\u001b[0m \u001b[0;32mnot\u001b[0m \u001b[0;32mNone\u001b[0m\u001b[0;34m)\u001b[0m \u001b[0;32mand\u001b[0m \u001b[0;34m(\u001b[0m\u001b[0mchunksize\u001b[0m \u001b[0;32mis\u001b[0m \u001b[0;32mnot\u001b[0m \u001b[0;32mNone\u001b[0m\u001b[0;34m)\u001b[0m\u001b[0;34m:\u001b[0m\u001b[0;34m\u001b[0m\u001b[0m\n",
      "\u001b[0;32m/home/carnd/anaconda3/envs/carnd-term1/lib/python3.5/site-packages/pandas/io/parsers.py\u001b[0m in \u001b[0;36m__init__\u001b[0;34m(self, f, engine, **kwds)\u001b[0m\n\u001b[1;32m    728\u001b[0m             \u001b[0mself\u001b[0m\u001b[0;34m.\u001b[0m\u001b[0moptions\u001b[0m\u001b[0;34m[\u001b[0m\u001b[0;34m'has_index_names'\u001b[0m\u001b[0;34m]\u001b[0m \u001b[0;34m=\u001b[0m \u001b[0mkwds\u001b[0m\u001b[0;34m[\u001b[0m\u001b[0;34m'has_index_names'\u001b[0m\u001b[0;34m]\u001b[0m\u001b[0;34m\u001b[0m\u001b[0m\n\u001b[1;32m    729\u001b[0m \u001b[0;34m\u001b[0m\u001b[0m\n\u001b[0;32m--> 730\u001b[0;31m         \u001b[0mself\u001b[0m\u001b[0;34m.\u001b[0m\u001b[0m_make_engine\u001b[0m\u001b[0;34m(\u001b[0m\u001b[0mself\u001b[0m\u001b[0;34m.\u001b[0m\u001b[0mengine\u001b[0m\u001b[0;34m)\u001b[0m\u001b[0;34m\u001b[0m\u001b[0m\n\u001b[0m\u001b[1;32m    731\u001b[0m \u001b[0;34m\u001b[0m\u001b[0m\n\u001b[1;32m    732\u001b[0m     \u001b[0;32mdef\u001b[0m \u001b[0mclose\u001b[0m\u001b[0;34m(\u001b[0m\u001b[0mself\u001b[0m\u001b[0;34m)\u001b[0m\u001b[0;34m:\u001b[0m\u001b[0;34m\u001b[0m\u001b[0m\n",
      "\u001b[0;32m/home/carnd/anaconda3/envs/carnd-term1/lib/python3.5/site-packages/pandas/io/parsers.py\u001b[0m in \u001b[0;36m_make_engine\u001b[0;34m(self, engine)\u001b[0m\n\u001b[1;32m    921\u001b[0m     \u001b[0;32mdef\u001b[0m \u001b[0m_make_engine\u001b[0m\u001b[0;34m(\u001b[0m\u001b[0mself\u001b[0m\u001b[0;34m,\u001b[0m \u001b[0mengine\u001b[0m\u001b[0;34m=\u001b[0m\u001b[0;34m'c'\u001b[0m\u001b[0;34m)\u001b[0m\u001b[0;34m:\u001b[0m\u001b[0;34m\u001b[0m\u001b[0m\n\u001b[1;32m    922\u001b[0m         \u001b[0;32mif\u001b[0m \u001b[0mengine\u001b[0m \u001b[0;34m==\u001b[0m \u001b[0;34m'c'\u001b[0m\u001b[0;34m:\u001b[0m\u001b[0;34m\u001b[0m\u001b[0m\n\u001b[0;32m--> 923\u001b[0;31m             \u001b[0mself\u001b[0m\u001b[0;34m.\u001b[0m\u001b[0m_engine\u001b[0m \u001b[0;34m=\u001b[0m \u001b[0mCParserWrapper\u001b[0m\u001b[0;34m(\u001b[0m\u001b[0mself\u001b[0m\u001b[0;34m.\u001b[0m\u001b[0mf\u001b[0m\u001b[0;34m,\u001b[0m \u001b[0;34m**\u001b[0m\u001b[0mself\u001b[0m\u001b[0;34m.\u001b[0m\u001b[0moptions\u001b[0m\u001b[0;34m)\u001b[0m\u001b[0;34m\u001b[0m\u001b[0m\n\u001b[0m\u001b[1;32m    924\u001b[0m         \u001b[0;32melse\u001b[0m\u001b[0;34m:\u001b[0m\u001b[0;34m\u001b[0m\u001b[0m\n\u001b[1;32m    925\u001b[0m             \u001b[0;32mif\u001b[0m \u001b[0mengine\u001b[0m \u001b[0;34m==\u001b[0m \u001b[0;34m'python'\u001b[0m\u001b[0;34m:\u001b[0m\u001b[0;34m\u001b[0m\u001b[0m\n",
      "\u001b[0;32m/home/carnd/anaconda3/envs/carnd-term1/lib/python3.5/site-packages/pandas/io/parsers.py\u001b[0m in \u001b[0;36m__init__\u001b[0;34m(self, src, **kwds)\u001b[0m\n\u001b[1;32m   1388\u001b[0m         \u001b[0mkwds\u001b[0m\u001b[0;34m[\u001b[0m\u001b[0;34m'allow_leading_cols'\u001b[0m\u001b[0;34m]\u001b[0m \u001b[0;34m=\u001b[0m \u001b[0mself\u001b[0m\u001b[0;34m.\u001b[0m\u001b[0mindex_col\u001b[0m \u001b[0;32mis\u001b[0m \u001b[0;32mnot\u001b[0m \u001b[0;32mFalse\u001b[0m\u001b[0;34m\u001b[0m\u001b[0m\n\u001b[1;32m   1389\u001b[0m \u001b[0;34m\u001b[0m\u001b[0m\n\u001b[0;32m-> 1390\u001b[0;31m         \u001b[0mself\u001b[0m\u001b[0;34m.\u001b[0m\u001b[0m_reader\u001b[0m \u001b[0;34m=\u001b[0m \u001b[0m_parser\u001b[0m\u001b[0;34m.\u001b[0m\u001b[0mTextReader\u001b[0m\u001b[0;34m(\u001b[0m\u001b[0msrc\u001b[0m\u001b[0;34m,\u001b[0m \u001b[0;34m**\u001b[0m\u001b[0mkwds\u001b[0m\u001b[0;34m)\u001b[0m\u001b[0;34m\u001b[0m\u001b[0m\n\u001b[0m\u001b[1;32m   1391\u001b[0m \u001b[0;34m\u001b[0m\u001b[0m\n\u001b[1;32m   1392\u001b[0m         \u001b[0;31m# XXX\u001b[0m\u001b[0;34m\u001b[0m\u001b[0;34m\u001b[0m\u001b[0m\n",
      "\u001b[0;32mpandas/parser.pyx\u001b[0m in \u001b[0;36mpandas.parser.TextReader.__cinit__ (pandas/parser.c:4184)\u001b[0;34m()\u001b[0m\n",
      "\u001b[0;32mpandas/parser.pyx\u001b[0m in \u001b[0;36mpandas.parser.TextReader._setup_parser_source (pandas/parser.c:8449)\u001b[0;34m()\u001b[0m\n",
      "\u001b[0;31mFileNotFoundError\u001b[0m: File b'/home/carnd/Dropbox/udacity-data/track1/trial3-corners/driving_log.csv' does not exist"
     ]
    }
   ],
   "source": [
    "track1_dir = '/home/carnd/Dropbox/udacity-data/track1'\n",
    "\n",
    "folders_to_exclude = [] #['trial1_offroad_fwd', 'trial1_offroad_bwd']\n",
    "track1_data_dirs = [x for x in os.listdir(track1_dir) if x not in folders_to_exclude]\n",
    "print(track1_data_dirs)\n",
    "track1_data_dirs = [track1_dir + '/' + x for x in track1_data_dirs]\n",
    "\n",
    "track2_dir = '/home/carnd/Dropbox/udacity-data/track2'\n",
    "\n",
    "folders_to_exclude = [] #['trial1_offroad_fwd', 'trial1_offroad_bwd']\n",
    "track2_data_dirs = [x for x in os.listdir(track2_dir) if x not in folders_to_exclude]\n",
    "print(track2_data_dirs)\n",
    "track2_data_dirs = [track2_dir + '/' + x for x in track2_data_dirs]\n",
    "\n",
    "\n",
    "driving_log_df = None\n",
    "\n",
    "for data_dir in track1_data_dirs + track2_data_dirs:\n",
    "    df = pd.read_csv(data_dir + \"/driving_log.csv\", header=None, names=[\"center\",\"left\",\"right\",\"steering\",\"throttle\",\"brake\",\"speed\"])\n",
    "\n",
    "    cols = ['center', 'left', 'right']\n",
    "    for col in cols:\n",
    "        df[col] = df[col].str.strip()\n",
    "        df[col] = df[col].str.split(\"/\").apply(lambda x: x[-1])\n",
    "    df[['center', 'left', 'right']] = data_dir + \"/IMG/\" + df[['center', 'left', 'right']]\n",
    "#    \"/home/carnd/Dropbox/udacity-data/track1/trial1_offroad_fwd//Users/macbook/Development/personal/udacity-car/CarND-Behavioral-Cloning-P3/trial1_offroad_fwd/IMG/center_2017_02_19_10_05_58_231.jpg\"\n",
    "    \n",
    "    if driving_log_df is None:\n",
    "        driving_log_df = df\n",
    "    else:\n",
    "        driving_log_df = pd.concat([driving_log_df, df])\n",
    "\n",
    "# # shuffle\n",
    "# np.random.seed(42)\n",
    "# driving_log_df = driving_log_df.reindex(np.random.permutation(driving_log_df.index), copy=False)\n",
    "\n",
    "driving_log_df.head()"
   ]
  },
  {
   "cell_type": "code",
   "execution_count": null,
   "metadata": {
    "collapsed": false
   },
   "outputs": [],
   "source": [
    "def get_next_image_generator(df, position = 'center', offset = 0.2):\n",
    "    for idx, image_path in enumerate(df[position]):\n",
    "        img = cv2.imread(image_path)\n",
    "        yield img\n"
   ]
  },
  {
   "cell_type": "code",
   "execution_count": null,
   "metadata": {
    "collapsed": false,
    "scrolled": true
   },
   "outputs": [],
   "source": [
    "tempgen = get_next_image_generator(driving_log_df)\n",
    "sample = next(tempgen)\n",
    "print(\"Dimension of image: H x W X D = \", sample.shape)\n",
    "print(\"# of images: \", len(driving_log_df))\n",
    "\n",
    "print(\"Steering range: Min=\", np.min(driving_log_df['steering']), \" , Max=\", np.max(driving_log_df['steering']))\n",
    "print(\"Throttle range: Min=\", np.min(driving_log_df['throttle']), \" , Max=\", np.max(driving_log_df['throttle']))\n",
    "print(\"Brake range: Min=\", np.min(driving_log_df['brake']), \" , Max=\", np.max(driving_log_df['brake']))\n",
    "print(\"Speed range: Min=\", np.min(driving_log_df['speed']), \" , Max=\", np.max(driving_log_df['speed']))\n",
    "\n",
    "print(\"image Min: \", np.min(sample))\n",
    "print(\"image Max: \", np.max(sample))\n",
    "sample"
   ]
  },
  {
   "cell_type": "code",
   "execution_count": null,
   "metadata": {
    "collapsed": false
   },
   "outputs": [],
   "source": [
    "def get_next_feature(df, batch_size = 10, mode = 'train', position = 'center', offset = 0.1, val_portion = 0.2, include_mirror=True, steering_multiplier=1.0):\n",
    "    df['mirror'] = False\n",
    "    if include_mirror:\n",
    "        dfMirror = df.copy()\n",
    "        dfMirror['mirror'] = True\n",
    "        dfMirror['steering'] = -dfMirror['steering']\n",
    "        df = pd.concat([df, dfMirror])\n",
    "        \n",
    "    if position == 'all':\n",
    "        dfLeft = df.copy()\n",
    "        dfLeft['target'] = 'left'\n",
    "        dfCenter = df.copy()\n",
    "        dfCenter['target'] = 'center'\n",
    "        dfRight = df.copy()\n",
    "        dfRight['target'] = 'right'\n",
    "        df = pd.concat([dfLeft, dfCenter, dfRight])\n",
    "    else:\n",
    "        df['target'] = position\n",
    "        \n",
    "    #Shuffle\n",
    "    df = df.sample(frac=1).reset_index(drop=True)\n",
    "    \n",
    "    total_len = len(df)\n",
    "    val_len = int(val_portion * total_len)\n",
    "    train_len = total_len - val_len\n",
    "    \n",
    "    if mode == \"train\":\n",
    "        df = df[:train_len]\n",
    "    else:\n",
    "        df = df[train_len:]\n",
    "    \n",
    "    row = df.iloc[0]\n",
    "    sample_image = cv2.imread(row[row['target']])\n",
    "\n",
    "    image_size = sample_image.shape\n",
    "\n",
    "    inputs = np.zeros([batch_size, *image_size]) #length of prediction output\n",
    "    targets = np.zeros([batch_size])\n",
    "    \n",
    "    count = 0\n",
    "    \n",
    "    while(True):\n",
    "        for idx in range(len(df)):\n",
    "            row = df.iloc[idx]\n",
    "            image_path = row[row['target']]\n",
    "            img = cv2.imread(image_path)\n",
    "            img = img[np.newaxis, :, :, :]\n",
    "\n",
    "            if row['mirror']:\n",
    "                img = img[:,::-1,:]\n",
    "\n",
    "            inputs[count] = img\n",
    "            targets[count] = row['steering']\n",
    "            if row['target'] == 'right':\n",
    "                targets[count] -= offset\n",
    "            elif row['target'] == 'left':\n",
    "                targets[count] += offset\n",
    "            \n",
    "            targets[count] *= steering_multiplier\n",
    "            \n",
    "            count += 1\n",
    "            if count == batch_size:\n",
    "                yield inputs, targets\n",
    "                inputs = np.zeros([batch_size, *image_size])\n",
    "                targets = np.zeros([batch_size])\n",
    "                count = 0\n",
    "                \n"
   ]
  },
  {
   "cell_type": "code",
   "execution_count": null,
   "metadata": {
    "collapsed": false
   },
   "outputs": [],
   "source": [
    "# Define the model\n",
    "\n",
    "#model = Model() # The nVidia model\n",
    "model = Model(dropout=0.5, dropout_level=2, orig = False)"
   ]
  },
  {
   "cell_type": "code",
   "execution_count": null,
   "metadata": {
    "collapsed": false,
    "scrolled": false
   },
   "outputs": [],
   "source": [
    "model.compile(optimizer='adam', loss='mean_squared_error', metrics=[\"accuracy\"])\n",
    "\n",
    "# train model\n",
    "EPOCHS = 5\n",
    "BATCH_SIZE = 300\n",
    "OFFSET = 0.1 #0.034 radians is 2 degrees\n",
    "VAL_PORTION = 0.2\n",
    "INCLUDE_MIRROR = True\n",
    "STEERING_MULTIPLIER = 1.0\n",
    "\n",
    "# Train on all the data\n",
    "position = 'all'\n",
    "train_generator_all = get_next_feature(driving_log_df, 10, 'train', position, OFFSET, VAL_PORTION, INCLUDE_MIRROR, STEERING_MULTIPLIER)\n",
    "validation_generator_all = get_next_feature(driving_log_df, 10, 'val', position, OFFSET, VAL_PORTION, INCLUDE_MIRROR, STEERING_MULTIPLIER)\n",
    "model.fit_generator(train_generator_all, BATCH_SIZE, EPOCHS, verbose=2, validation_data=validation_generator_all, nb_val_samples=BATCH_SIZE/3)\n",
    "\n",
    "# driving_log_df\n",
    "\n"
   ]
  },
  {
   "cell_type": "code",
   "execution_count": null,
   "metadata": {
    "collapsed": false
   },
   "outputs": [],
   "source": [
    "# Force learn problem areas\n",
    "track1_dir = '/home/carnd/Dropbox/udacity-data/track1'\n",
    "folders_to_include = ['trial3-avoid', 'trial3-avoidb', 'trial1_offroad_fwd', 'trial1_offroad_bwd']\n",
    "track1_data_dirs = [track1_dir + '/' + x for x in folders_to_include]\n",
    "\n",
    "driving_log_df = None\n",
    "\n",
    "for data_dir in track1_data_dirs:\n",
    "    df = pd.read_csv(data_dir + \"/driving_log.csv\", header=None, names=[\"center\",\"left\",\"right\",\"steering\",\"throttle\",\"brake\",\"speed\"])\n",
    "\n",
    "    cols = ['center', 'left', 'right']\n",
    "    for col in cols:\n",
    "        df[col] = df[col].str.strip()\n",
    "        df[col] = df[col].str.split(\"/\").apply(lambda x: x[-1])\n",
    "    df[['center', 'left', 'right']] = data_dir + \"/IMG/\" + df[['center', 'left', 'right']]\n",
    "#    \"/home/carnd/Dropbox/udacity-data/track1/trial1_offroad_fwd//Users/macbook/Development/personal/udacity-car/CarND-Behavioral-Cloning-P3/trial1_offroad_fwd/IMG/center_2017_02_19_10_05_58_231.jpg\"\n",
    "    \n",
    "    if driving_log_df is None:\n",
    "        driving_log_df = df\n",
    "    else:\n",
    "        driving_log_df = pd.concat([driving_log_df, df])\n",
    "\n",
    "# # shuffle\n",
    "# np.random.seed(42)\n",
    "# driving_log_df = driving_log_df.reindex(np.random.permutation(driving_log_df.index), copy=False)\n",
    "\n",
    "train_generator_all = get_next_feature(driving_log_df, 10, 'train', position, OFFSET, VAL_PORTION, INCLUDE_MIRROR)\n",
    "validation_generator_all = get_next_feature(driving_log_df, 10, 'val', position, OFFSET, VAL_PORTION, INCLUDE_MIRROR)\n",
    "model.fit_generator(train_generator_all, BATCH_SIZE, EPOCHS, verbose=2, validation_data=validation_generator_all, nb_val_samples=BATCH_SIZE/3)\n"
   ]
  },
  {
   "cell_type": "code",
   "execution_count": null,
   "metadata": {
    "collapsed": false
   },
   "outputs": [],
   "source": [
    "model.save('model.h5')\n",
    "\n",
    "# # returns a compiled model\n",
    "# # identical to the previous one\n",
    "# model = load_model('model.h5')"
   ]
  },
  {
   "cell_type": "code",
   "execution_count": null,
   "metadata": {
    "collapsed": false
   },
   "outputs": [],
   "source": [
    "# # Test to determine offset parameter\n",
    "# for offset in range(0, 100, 5):\n",
    "#     offset = offset * 0.01\n",
    "#     print(\"Offset = \", offset)\n",
    "    \n",
    "#     EPOCHS=5\n",
    "#     train_gen = get_next_feature(driving_log_df, 10, 'train', 'right', OFFSET, VAL_PORTION, INCLUDE_MIRROR)\n",
    "#     val_gen = get_next_feature(driving_log_df, 10, 'val', 'center', offset, VAL_PORTION, INCLUDE_MIRROR)\n",
    "\n",
    "#     # want to produce center training data, then test on \n",
    "#     model.fit_generator(train_gen, BATCH_SIZE, EPOCHS, verbose=2, validation_data=val_gen, nb_val_samples=BATCH_SIZE/3)\n"
   ]
  },
  {
   "cell_type": "code",
   "execution_count": null,
   "metadata": {
    "collapsed": false
   },
   "outputs": [],
   "source": []
  },
  {
   "cell_type": "code",
   "execution_count": null,
   "metadata": {
    "collapsed": false
   },
   "outputs": [],
   "source": []
  },
  {
   "cell_type": "code",
   "execution_count": null,
   "metadata": {
    "collapsed": true
   },
   "outputs": [],
   "source": []
  }
 ],
 "metadata": {
  "kernelspec": {
   "display_name": "Python 3",
   "language": "python",
   "name": "python3"
  },
  "language_info": {
   "codemirror_mode": {
    "name": "ipython",
    "version": 3
   },
   "file_extension": ".py",
   "mimetype": "text/x-python",
   "name": "python",
   "nbconvert_exporter": "python",
   "pygments_lexer": "ipython3",
   "version": "3.5.2"
  },
  "widgets": {
   "state": {},
   "version": "1.1.2"
  }
 },
 "nbformat": 4,
 "nbformat_minor": 2
}
