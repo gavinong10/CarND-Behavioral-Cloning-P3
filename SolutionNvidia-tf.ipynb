{
 "cells": [
  {
   "cell_type": "code",
   "execution_count": 1,
   "metadata": {
    "collapsed": false,
    "deletable": true,
    "editable": true
   },
   "outputs": [
    {
     "name": "stderr",
     "output_type": "stream",
     "text": [
      "Using TensorFlow backend.\n"
     ]
    }
   ],
   "source": [
    "import pandas as pd\n",
    "from pandas import DataFrame, Series\n",
    "import numpy as np\n",
    "import random\n",
    "from keras.models import load_model, Sequential, Model\n",
    "from keras.layers import Cropping2D\n",
    "import cv2\n",
    "import os\n",
    "import socket"
   ]
  },
  {
   "cell_type": "code",
   "execution_count": 2,
   "metadata": {
    "collapsed": false,
    "deletable": true,
    "editable": true
   },
   "outputs": [],
   "source": [
    "is_AWS = False if 'Macbook' in socket.gethostname() else True"
   ]
  },
  {
   "cell_type": "code",
   "execution_count": 3,
   "metadata": {
    "collapsed": false,
    "deletable": true,
    "editable": true
   },
   "outputs": [],
   "source": [
    "from keras.models import Sequential\n",
    "from keras.layers.core import Flatten, Dense, Dropout, Lambda\n",
    "from keras.layers.convolutional import Convolution2D, MaxPooling2D, ZeroPadding2D\n",
    "from keras.optimizers import SGD\n",
    "import cv2, numpy as np\n",
    "\n",
    "def Model(weights_path=None, dropout=0.5, dropout_level=1, orig = True, discrete=False):\n",
    "    if orig:\n",
    "        model = Sequential()\n",
    "                \n",
    "        # Take 2x2 stride on the input to reduce dimensionality\n",
    "        model.add(Lambda(lambda x: x[::2, ::2, :], input_shape=(160, 320, 3), output_shape=(80, 160, 3))) #(3, 80, 160)\n",
    "        \n",
    "        # Zero pad the width\n",
    "        model.add(ZeroPadding2D(padding=(0, 20))) #(3, 80, 200)\n",
    "        \n",
    "        # Crop the height\n",
    "        model.add(Cropping2D(cropping=((80-66, 0), (0, 0)))) #(3, 66, 200)\n",
    "        \n",
    "        # Normalize\n",
    "        model.add(Lambda(lambda x: (x / 255.0) - 0.5, output_shape=(66, 200, 3)))\n",
    "        \n",
    "        # Original network\n",
    "        model.add(Dropout(dropout)) if dropout_level >= 2 else None\n",
    "        model.add(Convolution2D(24, 5, 5, border_mode='valid', subsample=(2,2), activation='relu')) #(24, 31, 98)\n",
    "        model.add(Dropout(dropout)) if dropout_level >= 2 else None\n",
    "        model.add(Convolution2D(36, 5, 5, border_mode='valid', subsample=(2,2), activation='relu')) #(36, 14, 47)\n",
    "        model.add(Dropout(dropout)) if dropout_level >= 2 else None\n",
    "        model.add(Convolution2D(48, 5, 5, border_mode='valid', subsample=(2,2), activation='relu')) #(48, 5, 22)\n",
    "        model.add(Dropout(dropout)) if dropout_level >= 2 else None\n",
    "        model.add(Convolution2D(64, 3, 3, border_mode='valid', subsample=(1,1), activation='relu')) #(64, 3, 20)\n",
    "        model.add(Dropout(dropout)) if dropout_level >= 2 else None\n",
    "        model.add(Convolution2D(64, 3, 3, border_mode='valid', subsample=(1,1), activation='relu')) #(64, 1, 18)\n",
    "        model.add(Dropout(dropout)) if dropout_level >= 2 else None\n",
    "        model.add(Flatten())\n",
    "        model.add(Dense(100, activation='relu'))\n",
    "        model.add(Dropout(dropout)) if dropout_level >= 1 else None\n",
    "        model.add(Dense(50, activation='relu'))\n",
    "        model.add(Dropout(dropout)) if dropout_level >= 1 else None\n",
    "\n",
    "        if not discrete:\n",
    "            model.add(Dense(10, activation='relu'))\n",
    "            model.add(Dropout(dropout)) if dropout_level >= 1 else None\n",
    "            model.add(Dense(1, activation='tanh'))\n",
    "        else:\n",
    "            model.add(Dense(10, activation='softmax'))\n",
    "    else:\n",
    "        model = Sequential()\n",
    "        model.add(Lambda(lambda x: (x / 255.0) - 0.5, input_shape=(160, 320, 3), output_shape=(160, 320, 3)))\n",
    "        model.add(Dropout(dropout)) if dropout_level >= 2 else None\n",
    "        model.add(Convolution2D(24, 5, 5, border_mode='valid', subsample=(3,3), activation='relu')) #(24, 52, 106)\n",
    "        model.add(Dropout(dropout)) if dropout_level >= 2 else None\n",
    "        model.add(Convolution2D(36, 5, 5, border_mode='valid', subsample=(2,2), activation='relu')) #(36, 24, 51)\n",
    "        model.add(Dropout(dropout)) if dropout_level >= 2 else None\n",
    "        model.add(Convolution2D(48, 5, 5, border_mode='valid', subsample=(2,2), activation='relu')) #(48, 10, 24)\n",
    "        model.add(Dropout(dropout)) if dropout_level >= 2 else None\n",
    "        model.add(Convolution2D(64, 3, 3, border_mode='valid', subsample=(1,1), activation='relu')) #(64, 8, 22)\n",
    "        model.add(Dropout(dropout)) if dropout_level >= 2 else None\n",
    "        model.add(Convolution2D(64, 3, 3, border_mode='valid', subsample=(1,1), activation='relu')) #(64, 6, 20)\n",
    "        model.add(Dropout(dropout)) if dropout_level >= 2 else None\n",
    "        model.add(Flatten())\n",
    "        model.add(Dense(100, activation='relu'))\n",
    "        model.add(Dropout(dropout)) if dropout_level >= 1 else None\n",
    "        model.add(Dense(50, activation='relu'))\n",
    "        model.add(Dropout(dropout)) if dropout_level >= 1 else None\n",
    "        if not discrete:\n",
    "            model.add(Dense(10, activation='relu'))\n",
    "            model.add(Dropout(dropout)) if dropout_level >= 1 else None\n",
    "            model.add(Dense(1, activation='tanh'))\n",
    "        else:\n",
    "            model.add(Dense(10, activation='softmax'))\n",
    "\n",
    "    if weights_path:\n",
    "        model.load_weights(weights_path, by_name=True)\n",
    "\n",
    "    return model"
   ]
  },
  {
   "cell_type": "code",
   "execution_count": 4,
   "metadata": {
    "collapsed": false,
    "deletable": true,
    "editable": true
   },
   "outputs": [
    {
     "name": "stdout",
     "output_type": "stream",
     "text": [
      "['trial1_corners_bwd', 'trial1_corners_fwd', 'trial1_offroad_bwd', 'trial1_offroad_fwd', 'trial1_recovery_bwd', 'trial1_recovery_fwd', 'trial2', 'trial2-corner', 'trial2b', 'trial3', 'trial3-avoid', 'trial3-avoidb', 'trial3-corners', 'trial4-startfix']\n"
     ]
    },
    {
     "data": {
      "text/html": [
       "<div>\n",
       "<table border=\"1\" class=\"dataframe\">\n",
       "  <thead>\n",
       "    <tr style=\"text-align: right;\">\n",
       "      <th></th>\n",
       "      <th>center</th>\n",
       "      <th>left</th>\n",
       "      <th>right</th>\n",
       "      <th>steering</th>\n",
       "      <th>throttle</th>\n",
       "      <th>brake</th>\n",
       "      <th>speed</th>\n",
       "    </tr>\n",
       "  </thead>\n",
       "  <tbody>\n",
       "    <tr>\n",
       "      <th>0</th>\n",
       "      <td>/Users/macbook/Development/personal/udacity-ca...</td>\n",
       "      <td>/Users/macbook/Development/personal/udacity-ca...</td>\n",
       "      <td>/Users/macbook/Development/personal/udacity-ca...</td>\n",
       "      <td>0.070312</td>\n",
       "      <td>1.0</td>\n",
       "      <td>0.0</td>\n",
       "      <td>22.72318</td>\n",
       "    </tr>\n",
       "    <tr>\n",
       "      <th>1</th>\n",
       "      <td>/Users/macbook/Development/personal/udacity-ca...</td>\n",
       "      <td>/Users/macbook/Development/personal/udacity-ca...</td>\n",
       "      <td>/Users/macbook/Development/personal/udacity-ca...</td>\n",
       "      <td>0.070312</td>\n",
       "      <td>1.0</td>\n",
       "      <td>0.0</td>\n",
       "      <td>23.30684</td>\n",
       "    </tr>\n",
       "    <tr>\n",
       "      <th>2</th>\n",
       "      <td>/Users/macbook/Development/personal/udacity-ca...</td>\n",
       "      <td>/Users/macbook/Development/personal/udacity-ca...</td>\n",
       "      <td>/Users/macbook/Development/personal/udacity-ca...</td>\n",
       "      <td>0.070312</td>\n",
       "      <td>1.0</td>\n",
       "      <td>0.0</td>\n",
       "      <td>24.08776</td>\n",
       "    </tr>\n",
       "    <tr>\n",
       "      <th>3</th>\n",
       "      <td>/Users/macbook/Development/personal/udacity-ca...</td>\n",
       "      <td>/Users/macbook/Development/personal/udacity-ca...</td>\n",
       "      <td>/Users/macbook/Development/personal/udacity-ca...</td>\n",
       "      <td>0.065669</td>\n",
       "      <td>1.0</td>\n",
       "      <td>0.0</td>\n",
       "      <td>24.86179</td>\n",
       "    </tr>\n",
       "    <tr>\n",
       "      <th>4</th>\n",
       "      <td>/Users/macbook/Development/personal/udacity-ca...</td>\n",
       "      <td>/Users/macbook/Development/personal/udacity-ca...</td>\n",
       "      <td>/Users/macbook/Development/personal/udacity-ca...</td>\n",
       "      <td>0.061026</td>\n",
       "      <td>1.0</td>\n",
       "      <td>0.0</td>\n",
       "      <td>25.43838</td>\n",
       "    </tr>\n",
       "  </tbody>\n",
       "</table>\n",
       "</div>"
      ],
      "text/plain": [
       "                                              center  \\\n",
       "0  /Users/macbook/Development/personal/udacity-ca...   \n",
       "1  /Users/macbook/Development/personal/udacity-ca...   \n",
       "2  /Users/macbook/Development/personal/udacity-ca...   \n",
       "3  /Users/macbook/Development/personal/udacity-ca...   \n",
       "4  /Users/macbook/Development/personal/udacity-ca...   \n",
       "\n",
       "                                                left  \\\n",
       "0  /Users/macbook/Development/personal/udacity-ca...   \n",
       "1  /Users/macbook/Development/personal/udacity-ca...   \n",
       "2  /Users/macbook/Development/personal/udacity-ca...   \n",
       "3  /Users/macbook/Development/personal/udacity-ca...   \n",
       "4  /Users/macbook/Development/personal/udacity-ca...   \n",
       "\n",
       "                                               right  steering  throttle  \\\n",
       "0  /Users/macbook/Development/personal/udacity-ca...  0.070312       1.0   \n",
       "1  /Users/macbook/Development/personal/udacity-ca...  0.070312       1.0   \n",
       "2  /Users/macbook/Development/personal/udacity-ca...  0.070312       1.0   \n",
       "3  /Users/macbook/Development/personal/udacity-ca...  0.065669       1.0   \n",
       "4  /Users/macbook/Development/personal/udacity-ca...  0.061026       1.0   \n",
       "\n",
       "   brake     speed  \n",
       "0    0.0  22.72318  \n",
       "1    0.0  23.30684  \n",
       "2    0.0  24.08776  \n",
       "3    0.0  24.86179  \n",
       "4    0.0  25.43838  "
      ]
     },
     "execution_count": 4,
     "metadata": {},
     "output_type": "execute_result"
    }
   ],
   "source": [
    "if is_AWS:\n",
    "    track1_dir = '/home/carnd/Dropbox/udacity-data/track1'\n",
    "else:\n",
    "    track1_dir = '/Users/macbook/Development/personal/udacity-car/CarND-Behavioral-Cloning-P3/track1'\n",
    "\n",
    "folders_to_exclude = ['.DS_Store']\n",
    "track1_data_dirs = [x for x in os.listdir(track1_dir) if x not in folders_to_exclude]\n",
    "print(track1_data_dirs)\n",
    "track1_data_dirs = [track1_dir + '/' + x for x in track1_data_dirs]\n",
    "\n",
    "# if is_AWS:\n",
    "#     track2_dir = '/home/carnd/Dropbox/udacity-data/track2'\n",
    "# else:\n",
    "#     track2_dir = '/Users/macbook/Development/personal/udacity-car/CarND-Behavioral-Cloning-P3/track2'\n",
    "\n",
    "# folders_to_exclude = [] #['trial1_offroad_fwd', 'trial1_offroad_bwd']\n",
    "# track2_data_dirs = [x for x in os.listdir(track2_dir) if x not in folders_to_exclude]\n",
    "# print(track2_data_dirs)\n",
    "# track2_data_dirs = [track2_dir + '/' + x for x in track2_data_dirs]\n",
    "track2_data_dirs = []\n",
    "\n",
    "\n",
    "driving_log_df = None\n",
    "\n",
    "for data_dir in track1_data_dirs + track2_data_dirs:\n",
    "    df = pd.read_csv(data_dir + \"/driving_log.csv\", header=None, names=[\"center\",\"left\",\"right\",\"steering\",\"throttle\",\"brake\",\"speed\"])\n",
    "\n",
    "    cols = ['center', 'left', 'right']\n",
    "    for col in cols:\n",
    "        df[col] = df[col].str.strip()\n",
    "        df[col] = df[col].str.split(\"/\").apply(lambda x: x[-1])\n",
    "    df[['center', 'left', 'right']] = data_dir + \"/IMG/\" + df[['center', 'left', 'right']]\n",
    "#    \"/home/carnd/Dropbox/udacity-data/track1/trial1_offroad_fwd//Users/macbook/Development/personal/udacity-car/CarND-Behavioral-Cloning-P3/trial1_offroad_fwd/IMG/center_2017_02_19_10_05_58_231.jpg\"\n",
    "    \n",
    "    if driving_log_df is None:\n",
    "        driving_log_df = df\n",
    "    else:\n",
    "        driving_log_df = pd.concat([driving_log_df, df])\n",
    "\n",
    "# # shuffle\n",
    "# np.random.seed(42)\n",
    "# driving_log_df = driving_log_df.reindex(np.random.permutation(driving_log_df.index), copy=False)\n",
    "\n",
    "driving_log_df.head()"
   ]
  },
  {
   "cell_type": "code",
   "execution_count": 5,
   "metadata": {
    "collapsed": false,
    "deletable": true,
    "editable": true
   },
   "outputs": [],
   "source": [
    "def get_next_image_generator(df, position = 'center', offset = 0.2):\n",
    "    for idx, image_path in enumerate(df[position]):\n",
    "        img = cv2.imread(image_path)\n",
    "        yield img\n"
   ]
  },
  {
   "cell_type": "code",
   "execution_count": 6,
   "metadata": {
    "collapsed": false,
    "deletable": true,
    "editable": true,
    "scrolled": true
   },
   "outputs": [
    {
     "name": "stdout",
     "output_type": "stream",
     "text": [
      "Dimension of image: H x W X D =  (160, 320, 3)\n",
      "# of images:  19157\n",
      "Steering range: Min= -1.0  , Max= 0.9576946\n",
      "Throttle range: Min= 0.0  , Max= 1.0\n",
      "Brake range: Min= 0.0  , Max= 1.0\n",
      "Speed range: Min= 8.622601e-05  , Max= 30.6053\n",
      "image Min:  0\n",
      "image Max:  255\n"
     ]
    },
    {
     "data": {
      "text/plain": [
       "array([[[173, 140, 114],\n",
       "        [173, 140, 114],\n",
       "        [172, 140, 111],\n",
       "        ..., \n",
       "        [192, 148, 119],\n",
       "        [192, 148, 119],\n",
       "        [192, 148, 119]],\n",
       "\n",
       "       [[175, 140, 114],\n",
       "        [173, 140, 114],\n",
       "        [173, 141, 112],\n",
       "        ..., \n",
       "        [192, 148, 119],\n",
       "        [192, 148, 119],\n",
       "        [192, 148, 119]],\n",
       "\n",
       "       [[176, 141, 115],\n",
       "        [176, 141, 115],\n",
       "        [173, 141, 112],\n",
       "        ..., \n",
       "        [193, 149, 120],\n",
       "        [193, 149, 120],\n",
       "        [193, 149, 120]],\n",
       "\n",
       "       ..., \n",
       "       [[133, 147, 145],\n",
       "        [110, 124, 122],\n",
       "        [ 82,  96,  94],\n",
       "        ..., \n",
       "        [113, 126, 124],\n",
       "        [104, 117, 115],\n",
       "        [101, 114, 112]],\n",
       "\n",
       "       [[ 92, 106, 104],\n",
       "        [ 92, 106, 104],\n",
       "        [ 97, 111, 109],\n",
       "        ..., \n",
       "        [146, 159, 157],\n",
       "        [134, 147, 145],\n",
       "        [121, 134, 132]],\n",
       "\n",
       "       [[105, 119, 117],\n",
       "        [ 98, 112, 110],\n",
       "        [101, 115, 113],\n",
       "        ..., \n",
       "        [137, 150, 148],\n",
       "        [157, 170, 168],\n",
       "        [167, 180, 178]]], dtype=uint8)"
      ]
     },
     "execution_count": 6,
     "metadata": {},
     "output_type": "execute_result"
    }
   ],
   "source": [
    "tempgen = get_next_image_generator(driving_log_df)\n",
    "sample = next(tempgen)\n",
    "print(\"Dimension of image: H x W X D = \", sample.shape)\n",
    "print(\"# of images: \", len(driving_log_df))\n",
    "\n",
    "print(\"Steering range: Min=\", np.min(driving_log_df['steering']), \" , Max=\", np.max(driving_log_df['steering']))\n",
    "print(\"Throttle range: Min=\", np.min(driving_log_df['throttle']), \" , Max=\", np.max(driving_log_df['throttle']))\n",
    "print(\"Brake range: Min=\", np.min(driving_log_df['brake']), \" , Max=\", np.max(driving_log_df['brake']))\n",
    "print(\"Speed range: Min=\", np.min(driving_log_df['speed']), \" , Max=\", np.max(driving_log_df['speed']))\n",
    "\n",
    "print(\"image Min: \", np.min(sample))\n",
    "print(\"image Max: \", np.max(sample))\n",
    "sample"
   ]
  },
  {
   "cell_type": "code",
   "execution_count": 7,
   "metadata": {
    "collapsed": false,
    "deletable": true,
    "editable": true
   },
   "outputs": [],
   "source": [
    "def get_next_feature(df, batch_size = 10, mode = 'train', position = 'center', offset = 0.1, val_portion = 0.2, include_mirror=True, steering_multiplier=1.0):\n",
    "    df['mirror'] = False\n",
    "    if include_mirror:\n",
    "        dfMirror = df.copy()\n",
    "        dfMirror['mirror'] = True\n",
    "        dfMirror['steering'] = -dfMirror['steering']\n",
    "        df = pd.concat([df, dfMirror])\n",
    "        \n",
    "    if position == 'all':\n",
    "        dfLeft = df.copy()\n",
    "        dfLeft['target'] = 'left'\n",
    "        dfCenter = df.copy()\n",
    "        dfCenter['target'] = 'center'\n",
    "        dfRight = df.copy()\n",
    "        dfRight['target'] = 'right'\n",
    "        df = pd.concat([dfLeft, dfCenter, dfRight])\n",
    "    else:\n",
    "        df['target'] = position\n",
    "        \n",
    "    #Shuffle\n",
    "    df = df.sample(frac=1).reset_index(drop=True)\n",
    "    \n",
    "    total_len = len(df)\n",
    "    val_len = int(val_portion * total_len)\n",
    "    train_len = total_len - val_len\n",
    "    \n",
    "    if mode == \"train\":\n",
    "        df = df[:train_len]\n",
    "    else:\n",
    "        df = df[train_len:]\n",
    "    \n",
    "    row = df.iloc[0]\n",
    "    sample_image = cv2.imread(row[row['target']])\n",
    "\n",
    "    image_size = sample_image.shape\n",
    "\n",
    "    inputs = np.zeros([batch_size, *image_size]) #length of prediction output\n",
    "    targets = np.zeros([batch_size])\n",
    "    \n",
    "    count = 0\n",
    "    \n",
    "    while(True):\n",
    "        for idx in range(len(df)):\n",
    "            row = df.iloc[idx]\n",
    "            image_path = row[row['target']]\n",
    "            img = cv2.imread(image_path)\n",
    "            if row['mirror']:\n",
    "                img = img[:,::-1,:]\n",
    "                \n",
    "            img = img[np.newaxis, :, :, :]\n",
    "    \n",
    "            inputs[count] = img\n",
    "            targets[count] = row['steering']\n",
    "            if row['target'] == 'right':\n",
    "                targets[count] -= offset\n",
    "            elif row['target'] == 'left':\n",
    "                targets[count] += offset\n",
    "            \n",
    "            targets[count] *= steering_multiplier\n",
    "            \n",
    "            count += 1\n",
    "            if count == batch_size:\n",
    "                yield inputs, targets\n",
    "                inputs = np.zeros([batch_size, *image_size])\n",
    "                targets = np.zeros([batch_size])\n",
    "                count = 0\n",
    "                \n"
   ]
  },
  {
   "cell_type": "code",
   "execution_count": 8,
   "metadata": {
    "collapsed": false,
    "deletable": true,
    "editable": true
   },
   "outputs": [],
   "source": [
    "# Define the model\n",
    "\n",
    "#model = Model() # The nVidia model\n",
    "model = Model(dropout=0.3, dropout_level=1, orig = False)"
   ]
  },
  {
   "cell_type": "code",
   "execution_count": 9,
   "metadata": {
    "collapsed": false,
    "deletable": true,
    "editable": true,
    "scrolled": false
   },
   "outputs": [
    {
     "name": "stdout",
     "output_type": "stream",
     "text": [
      "Epoch 1/8\n",
      "15s - loss: 0.0332 - val_loss: 0.0286\n",
      "Epoch 2/8\n",
      "13s - loss: 0.0248 - val_loss: 0.0207\n",
      "Epoch 3/8\n",
      "14s - loss: 0.0307 - val_loss: 0.0309\n",
      "Epoch 4/8\n",
      "13s - loss: 0.0311 - val_loss: 0.0301\n",
      "Epoch 5/8\n",
      "13s - loss: 0.0311 - val_loss: 0.0309\n",
      "Epoch 6/8\n",
      "13s - loss: 0.0250 - val_loss: 0.0179\n",
      "Epoch 7/8\n",
      "13s - loss: 0.0286 - val_loss: 0.0392\n",
      "Epoch 8/8\n",
      "13s - loss: 0.0297 - val_loss: 0.0252\n"
     ]
    },
    {
     "data": {
      "text/plain": [
       "<keras.callbacks.History at 0x11c03a2e8>"
      ]
     },
     "execution_count": 9,
     "metadata": {},
     "output_type": "execute_result"
    }
   ],
   "source": [
    "model.compile(optimizer='adam', loss='mean_squared_error')\n",
    "\n",
    "# train model\n",
    "EPOCHS = 8\n",
    "BATCH_SIZE = 300\n",
    "OFFSET = 0.1 #0.034 radians is 2 degrees\n",
    "VAL_PORTION = 0.15\n",
    "INCLUDE_MIRROR = True\n",
    "STEERING_MULTIPLIER = 1.0\n",
    "\n",
    "# Train on all the data\n",
    "position = 'all'\n",
    "train_generator_all = get_next_feature(driving_log_df, 10, 'train', position, OFFSET, VAL_PORTION, INCLUDE_MIRROR, STEERING_MULTIPLIER)\n",
    "validation_generator_all = get_next_feature(driving_log_df, 10, 'val', position, OFFSET, VAL_PORTION, INCLUDE_MIRROR, STEERING_MULTIPLIER)\n",
    "model.fit_generator(train_generator_all, BATCH_SIZE, EPOCHS, verbose=2, validation_data=validation_generator_all, nb_val_samples=BATCH_SIZE/3)\n",
    "\n",
    "# driving_log_df\n",
    "\n"
   ]
  },
  {
   "cell_type": "code",
   "execution_count": 10,
   "metadata": {
    "collapsed": false,
    "deletable": true,
    "editable": true
   },
   "outputs": [],
   "source": [
    "# # Force learn problem areas\n",
    "# if is_AWS:\n",
    "#     track1_dir = '/home/carnd/Dropbox/udacity-data/track1'\n",
    "# else:\n",
    "#     track1_dir = '/Users/macbook/Development/personal/udacity-car/CarND-Behavioral-Cloning-P3/track1'\n",
    "\n",
    "# folders_to_include = ['trial4-startfix']\n",
    "# track1_data_dirs = [track1_dir + '/' + x for x in folders_to_include]\n",
    "\n",
    "# driving_log_df = None\n",
    "\n",
    "# for data_dir in track1_data_dirs:\n",
    "#     df = pd.read_csv(data_dir + \"/driving_log.csv\", header=None, names=[\"center\",\"left\",\"right\",\"steering\",\"throttle\",\"brake\",\"speed\"])\n",
    "\n",
    "#     cols = ['center', 'left', 'right']\n",
    "#     for col in cols:\n",
    "#         df[col] = df[col].str.strip()\n",
    "#         df[col] = df[col].str.split(\"/\").apply(lambda x: x[-1])\n",
    "#     df[['center', 'left', 'right']] = data_dir + \"/IMG/\" + df[['center', 'left', 'right']]\n",
    "    \n",
    "#     if driving_log_df is None:\n",
    "#         driving_log_df = df\n",
    "#     else:\n",
    "#         driving_log_df = pd.concat([driving_log_df, df])\n",
    "\n",
    "# # # shuffle\n",
    "# # np.random.seed(42)\n",
    "# # driving_log_df = driving_log_df.reindex(np.random.permutation(driving_log_df.index), copy=False)\n",
    "\n",
    "# train_generator_all = get_next_feature(driving_log_df, 10, 'train', position, OFFSET, VAL_PORTION, INCLUDE_MIRROR)\n",
    "# validation_generator_all = get_next_feature(driving_log_df, 10, 'val', position, OFFSET, VAL_PORTION, INCLUDE_MIRROR)\n",
    "# model.fit_generator(train_generator_all, BATCH_SIZE, EPOCHS, verbose=2, validation_data=validation_generator_all, nb_val_samples=BATCH_SIZE/3)\n"
   ]
  },
  {
   "cell_type": "code",
   "execution_count": 11,
   "metadata": {
    "collapsed": false,
    "deletable": true,
    "editable": true
   },
   "outputs": [],
   "source": [
    "model.save('model.h5')\n",
    "\n",
    "# # returns a compiled model\n",
    "# # identical to the previous one\n",
    "# model = load_model('model.h5')"
   ]
  },
  {
   "cell_type": "code",
   "execution_count": 12,
   "metadata": {
    "collapsed": false,
    "deletable": true,
    "editable": true
   },
   "outputs": [],
   "source": [
    "# # Test to determine offset parameter\n",
    "# for offset in range(0, 100, 5):\n",
    "#     offset = offset * 0.01\n",
    "#     print(\"Offset = \", offset)\n",
    "    \n",
    "#     EPOCHS=5\n",
    "#     train_gen = get_next_feature(driving_log_df, 10, 'train', 'right', OFFSET, VAL_PORTION, INCLUDE_MIRROR)\n",
    "#     val_gen = get_next_feature(driving_log_df, 10, 'val', 'center', offset, VAL_PORTION, INCLUDE_MIRROR)\n",
    "\n",
    "#     # want to produce center training data, then test on \n",
    "#     model.fit_generator(train_gen, BATCH_SIZE, EPOCHS, verbose=2, validation_data=val_gen, nb_val_samples=BATCH_SIZE/3)\n"
   ]
  },
  {
   "cell_type": "code",
   "execution_count": null,
   "metadata": {
    "collapsed": false,
    "deletable": true,
    "editable": true
   },
   "outputs": [],
   "source": []
  },
  {
   "cell_type": "code",
   "execution_count": null,
   "metadata": {
    "collapsed": false,
    "deletable": true,
    "editable": true
   },
   "outputs": [],
   "source": []
  },
  {
   "cell_type": "code",
   "execution_count": null,
   "metadata": {
    "collapsed": false,
    "deletable": true,
    "editable": true
   },
   "outputs": [],
   "source": []
  },
  {
   "cell_type": "code",
   "execution_count": null,
   "metadata": {
    "collapsed": false,
    "deletable": true,
    "editable": true
   },
   "outputs": [],
   "source": []
  },
  {
   "cell_type": "code",
   "execution_count": null,
   "metadata": {
    "collapsed": true,
    "deletable": true,
    "editable": true
   },
   "outputs": [],
   "source": []
  }
 ],
 "metadata": {
  "kernelspec": {
   "display_name": "Python 3",
   "language": "python",
   "name": "python3"
  },
  "language_info": {
   "codemirror_mode": {
    "name": "ipython",
    "version": 3
   },
   "file_extension": ".py",
   "mimetype": "text/x-python",
   "name": "python",
   "nbconvert_exporter": "python",
   "pygments_lexer": "ipython3",
   "version": "3.5.2"
  },
  "widgets": {
   "state": {},
   "version": "1.1.2"
  }
 },
 "nbformat": 4,
 "nbformat_minor": 2
}
