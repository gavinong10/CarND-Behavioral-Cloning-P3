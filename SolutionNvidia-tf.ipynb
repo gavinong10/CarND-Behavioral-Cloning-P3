{
 "cells": [
  {
   "cell_type": "code",
   "execution_count": 40,
   "metadata": {
    "collapsed": false,
    "deletable": true,
    "editable": true
   },
   "outputs": [],
   "source": [
    "import pandas as pd\n",
    "from pandas import DataFrame, Series\n",
    "import numpy as np\n",
    "import random\n",
    "from keras.models import load_model, Sequential, Model\n",
    "from keras.layers import Cropping2D\n",
    "import cv2\n",
    "import os\n",
    "import socket\n",
    "import scipy\n",
    "from sklearn import preprocessing"
   ]
  },
  {
   "cell_type": "code",
   "execution_count": 41,
   "metadata": {
    "collapsed": false,
    "deletable": true,
    "editable": true
   },
   "outputs": [],
   "source": [
    "is_AWS = False if 'Macbook' in socket.gethostname() else True"
   ]
  },
  {
   "cell_type": "code",
   "execution_count": 42,
   "metadata": {
    "collapsed": false,
    "deletable": true,
    "editable": true
   },
   "outputs": [],
   "source": [
    "from keras.models import Sequential\n",
    "from keras.layers.core import Flatten, Dense, Dropout, Lambda\n",
    "from keras.layers.convolutional import Convolution2D, MaxPooling2D, ZeroPadding2D\n",
    "from keras.optimizers import SGD\n",
    "import cv2, numpy as np\n",
    "\n",
    "def Model(weights_path=None, dropout=0.5, dropout_level=1, orig = True, discrete=False):\n",
    "    if orig:\n",
    "        model = Sequential()\n",
    "                \n",
    "        # Take 2x2 stride on the input to reduce dimensionality\n",
    "        model.add(Lambda(lambda x: x[::2, ::2, :], input_shape=(160, 320, 3), output_shape=(80, 160, 3))) #(3, 80, 160)\n",
    "        \n",
    "        # Zero pad the width\n",
    "        model.add(ZeroPadding2D(padding=(0, 20))) #(3, 80, 200)\n",
    "        \n",
    "        # Crop the height\n",
    "        model.add(Cropping2D(cropping=((80-66, 0), (0, 0)))) #(3, 66, 200)\n",
    "        \n",
    "        # Normalize\n",
    "        model.add(Lambda(lambda x: (x / 255.0) - 0.5, output_shape=(66, 200, 3)))\n",
    "        \n",
    "        # Original network\n",
    "        model.add(Dropout(dropout)) if dropout_level >= 2 else None\n",
    "        model.add(Convolution2D(24, 5, 5, border_mode='valid', subsample=(2,2), activation='relu')) #(24, 31, 98)\n",
    "        model.add(Dropout(dropout)) if dropout_level >= 2 else None\n",
    "        model.add(Convolution2D(36, 5, 5, border_mode='valid', subsample=(2,2), activation='relu')) #(36, 14, 47)\n",
    "        model.add(Dropout(dropout)) if dropout_level >= 2 else None\n",
    "        model.add(Convolution2D(48, 5, 5, border_mode='valid', subsample=(2,2), activation='relu')) #(48, 5, 22)\n",
    "        model.add(Dropout(dropout)) if dropout_level >= 2 else None\n",
    "        model.add(Convolution2D(64, 3, 3, border_mode='valid', subsample=(1,1), activation='relu')) #(64, 3, 20)\n",
    "        model.add(Dropout(dropout)) if dropout_level >= 2 else None\n",
    "        model.add(Convolution2D(64, 3, 3, border_mode='valid', subsample=(1,1), activation='relu')) #(64, 1, 18)\n",
    "        model.add(Dropout(dropout)) if dropout_level >= 2 else None\n",
    "        model.add(Flatten())\n",
    "        model.add(Dense(100, activation='relu'))\n",
    "        model.add(Dropout(dropout)) if dropout_level >= 1 else None\n",
    "        model.add(Dense(50, activation='relu'))\n",
    "        model.add(Dropout(dropout)) if dropout_level >= 1 else None\n",
    "\n",
    "        if not discrete:\n",
    "            model.add(Dense(10, activation='relu'))\n",
    "            model.add(Dropout(dropout)) if dropout_level >= 1 else None\n",
    "            model.add(Dense(1, activation='hard_sigmoid'))\n",
    "        else:\n",
    "            model.add(Dense(10, activation='softmax'))\n",
    "    else:\n",
    "        model = Sequential()\n",
    "        model.add(Lambda(lambda x: (x / 255.0) - 0.5, input_shape=(160, 320, 3), output_shape=(160, 320, 3)))\n",
    "        model.add(Dropout(dropout)) if dropout_level >= 2 else None\n",
    "        model.add(Convolution2D(24, 5, 5, border_mode='valid', subsample=(3,3), activation='relu', init='normal')) #(24, 52, 106)\n",
    "        model.add(Dropout(dropout)) if dropout_level >= 2 else None\n",
    "        model.add(Convolution2D(36, 5, 5, border_mode='valid', subsample=(2,2), activation='relu', init='normal')) #(36, 24, 51)\n",
    "        model.add(Dropout(dropout)) if dropout_level >= 2 else None\n",
    "        model.add(Convolution2D(48, 5, 5, border_mode='valid', subsample=(2,2), activation='relu', init='normal')) #(48, 10, 24)\n",
    "        model.add(Dropout(dropout)) if dropout_level >= 2 else None\n",
    "        model.add(Convolution2D(64, 3, 3, border_mode='valid', subsample=(1,1), activation='relu', init='normal')) #(64, 8, 22)\n",
    "        model.add(Dropout(dropout)) if dropout_level >= 2 else None\n",
    "        model.add(Convolution2D(64, 3, 3, border_mode='valid', subsample=(1,1), activation='relu', init='normal')) #(64, 6, 20)\n",
    "        model.add(Dropout(dropout)) if dropout_level >= 2 else None\n",
    "#         model.add(Convolution2D(64, 3, 3, border_mode='valid', subsample=(1,1), activation='relu', init='normal')) #(64, 4, 18)\n",
    "#         model.add(Dropout(dropout)) if dropout_level >= 2 else None\n",
    "        model.add(Flatten())\n",
    "        model.add(Dense(100, activation='relu', init='normal'))\n",
    "        model.add(Dropout(dropout)) if dropout_level >= 1 else None\n",
    "        model.add(Dense(50, activation='relu', init='normal'))\n",
    "        model.add(Dropout(dropout)) if dropout_level >= 1 else None\n",
    "        if not discrete:\n",
    "            model.add(Dense(20, activation='relu', init='normal'))\n",
    "            model.add(Dropout(dropout)) if dropout_level >= 1 else None\n",
    "            model.add(Dense(1, activation='tanh', init='normal'))\n",
    "        else:\n",
    "            model.add(Dense(10, activation='softmax', init='normal'))\n",
    "\n",
    "    if weights_path:\n",
    "        model.load_weights(weights_path, by_name=True)\n",
    "\n",
    "    return model"
   ]
  },
  {
   "cell_type": "code",
   "execution_count": 43,
   "metadata": {
    "collapsed": false,
    "deletable": true,
    "editable": true
   },
   "outputs": [
    {
     "name": "stdout",
     "output_type": "stream",
     "text": [
      "['data_download']\n",
      "Length:  8036\n"
     ]
    },
    {
     "data": {
      "text/html": [
       "<div>\n",
       "<table border=\"1\" class=\"dataframe\">\n",
       "  <thead>\n",
       "    <tr style=\"text-align: right;\">\n",
       "      <th></th>\n",
       "      <th>center</th>\n",
       "      <th>left</th>\n",
       "      <th>right</th>\n",
       "      <th>steering</th>\n",
       "      <th>throttle</th>\n",
       "      <th>brake</th>\n",
       "      <th>speed</th>\n",
       "    </tr>\n",
       "  </thead>\n",
       "  <tbody>\n",
       "    <tr>\n",
       "      <th>0</th>\n",
       "      <td>/Users/macbook/Development/personal/udacity-ca...</td>\n",
       "      <td>/Users/macbook/Development/personal/udacity-ca...</td>\n",
       "      <td>/Users/macbook/Development/personal/udacity-ca...</td>\n",
       "      <td>0.0</td>\n",
       "      <td>0.0</td>\n",
       "      <td>0.0</td>\n",
       "      <td>22.148290</td>\n",
       "    </tr>\n",
       "    <tr>\n",
       "      <th>1</th>\n",
       "      <td>/Users/macbook/Development/personal/udacity-ca...</td>\n",
       "      <td>/Users/macbook/Development/personal/udacity-ca...</td>\n",
       "      <td>/Users/macbook/Development/personal/udacity-ca...</td>\n",
       "      <td>0.0</td>\n",
       "      <td>0.0</td>\n",
       "      <td>0.0</td>\n",
       "      <td>21.879630</td>\n",
       "    </tr>\n",
       "    <tr>\n",
       "      <th>2</th>\n",
       "      <td>/Users/macbook/Development/personal/udacity-ca...</td>\n",
       "      <td>/Users/macbook/Development/personal/udacity-ca...</td>\n",
       "      <td>/Users/macbook/Development/personal/udacity-ca...</td>\n",
       "      <td>0.0</td>\n",
       "      <td>0.0</td>\n",
       "      <td>0.0</td>\n",
       "      <td>1.453011</td>\n",
       "    </tr>\n",
       "    <tr>\n",
       "      <th>3</th>\n",
       "      <td>/Users/macbook/Development/personal/udacity-ca...</td>\n",
       "      <td>/Users/macbook/Development/personal/udacity-ca...</td>\n",
       "      <td>/Users/macbook/Development/personal/udacity-ca...</td>\n",
       "      <td>0.0</td>\n",
       "      <td>0.0</td>\n",
       "      <td>0.0</td>\n",
       "      <td>1.438419</td>\n",
       "    </tr>\n",
       "    <tr>\n",
       "      <th>4</th>\n",
       "      <td>/Users/macbook/Development/personal/udacity-ca...</td>\n",
       "      <td>/Users/macbook/Development/personal/udacity-ca...</td>\n",
       "      <td>/Users/macbook/Development/personal/udacity-ca...</td>\n",
       "      <td>0.0</td>\n",
       "      <td>0.0</td>\n",
       "      <td>0.0</td>\n",
       "      <td>1.418236</td>\n",
       "    </tr>\n",
       "  </tbody>\n",
       "</table>\n",
       "</div>"
      ],
      "text/plain": [
       "                                              center  \\\n",
       "0  /Users/macbook/Development/personal/udacity-ca...   \n",
       "1  /Users/macbook/Development/personal/udacity-ca...   \n",
       "2  /Users/macbook/Development/personal/udacity-ca...   \n",
       "3  /Users/macbook/Development/personal/udacity-ca...   \n",
       "4  /Users/macbook/Development/personal/udacity-ca...   \n",
       "\n",
       "                                                left  \\\n",
       "0  /Users/macbook/Development/personal/udacity-ca...   \n",
       "1  /Users/macbook/Development/personal/udacity-ca...   \n",
       "2  /Users/macbook/Development/personal/udacity-ca...   \n",
       "3  /Users/macbook/Development/personal/udacity-ca...   \n",
       "4  /Users/macbook/Development/personal/udacity-ca...   \n",
       "\n",
       "                                               right  steering  throttle  \\\n",
       "0  /Users/macbook/Development/personal/udacity-ca...       0.0       0.0   \n",
       "1  /Users/macbook/Development/personal/udacity-ca...       0.0       0.0   \n",
       "2  /Users/macbook/Development/personal/udacity-ca...       0.0       0.0   \n",
       "3  /Users/macbook/Development/personal/udacity-ca...       0.0       0.0   \n",
       "4  /Users/macbook/Development/personal/udacity-ca...       0.0       0.0   \n",
       "\n",
       "   brake      speed  \n",
       "0    0.0  22.148290  \n",
       "1    0.0  21.879630  \n",
       "2    0.0   1.453011  \n",
       "3    0.0   1.438419  \n",
       "4    0.0   1.418236  "
      ]
     },
     "execution_count": 43,
     "metadata": {},
     "output_type": "execute_result"
    }
   ],
   "source": [
    "if is_AWS:\n",
    "    track1_dir = '/home/carnd/Dropbox/udacity-data/track1'\n",
    "else:\n",
    "    track1_dir = '/Users/macbook/Development/personal/udacity-car/CarND-Behavioral-Cloning-P3/track1'\n",
    "\n",
    "try:\n",
    "    folders_to_exclude = pd.read_csv('to_exclude.csv', header=None, names=['Index', 'Name'])['Name'].tolist()\n",
    "    model = load_model('model.h5')\n",
    "except:\n",
    "    folders_to_exclude = []\n",
    "    model = None\n",
    "    \n",
    "folders_to_exclude += ['.DS_Store']\n",
    "\n",
    "track1_data_dirs = [x for x in os.listdir(track1_dir) if x not in folders_to_exclude]\n",
    "print(track1_data_dirs)\n",
    "\n",
    "track1_data_dirs = [track1_dir + '/' + x for x in track1_data_dirs]\n",
    "\n",
    "driving_log_df = None\n",
    "\n",
    "for data_dir in track1_data_dirs:\n",
    "    df = pd.read_csv(data_dir + \"/driving_log.csv\", header=None, names=[\"center\",\"left\",\"right\",\"steering\",\"throttle\",\"brake\",\"speed\"])\n",
    "\n",
    "    cols = ['center', 'left', 'right']\n",
    "    for col in cols:\n",
    "        df[col] = df[col].str.strip()\n",
    "        df[col] = df[col].str.split(\"/\").apply(lambda x: x[-1])\n",
    "    df[['center', 'left', 'right']] = data_dir + \"/IMG/\" + df[['center', 'left', 'right']]\n",
    "    \n",
    "    if driving_log_df is None:\n",
    "        driving_log_df = df\n",
    "    else:\n",
    "        driving_log_df = pd.concat([driving_log_df, df])\n",
    "\n",
    "print(\"Length: \", len(driving_log_df))\n",
    "\n",
    "\n",
    "driving_log_df.head()"
   ]
  },
  {
   "cell_type": "code",
   "execution_count": 44,
   "metadata": {
    "collapsed": false,
    "deletable": true,
    "editable": true
   },
   "outputs": [],
   "source": [
    "def get_next_image_generator(df, position = 'center', offset = 0.2):\n",
    "    for idx, image_path in enumerate(df[position]):\n",
    "        img = cv2.imread(image_path)\n",
    "        yield img\n"
   ]
  },
  {
   "cell_type": "code",
   "execution_count": 45,
   "metadata": {
    "collapsed": false,
    "deletable": true,
    "editable": true,
    "scrolled": true
   },
   "outputs": [
    {
     "name": "stdout",
     "output_type": "stream",
     "text": [
      "Dimension of image: H x W X D =  (160, 320, 3)\n",
      "# of images:  8036\n",
      "Steering range: Min= -0.9426954  , Max= 1.0\n",
      "Throttle range: Min= 0.0  , Max= 0.9855326\n",
      "Brake range: Min= 0.0  , Max= 1.0\n",
      "Speed range: Min= 0.5024896  , Max= 30.70936\n",
      "image Min:  0\n",
      "image Max:  255\n"
     ]
    }
   ],
   "source": [
    "tempgen = get_next_image_generator(driving_log_df)\n",
    "sample = next(tempgen)\n",
    "print(\"Dimension of image: H x W X D = \", sample.shape)\n",
    "print(\"# of images: \", len(driving_log_df))\n",
    "\n",
    "print(\"Steering range: Min=\", np.min(driving_log_df['steering']), \" , Max=\", np.max(driving_log_df['steering']))\n",
    "print(\"Throttle range: Min=\", np.min(driving_log_df['throttle']), \" , Max=\", np.max(driving_log_df['throttle']))\n",
    "print(\"Brake range: Min=\", np.min(driving_log_df['brake']), \" , Max=\", np.max(driving_log_df['brake']))\n",
    "print(\"Speed range: Min=\", np.min(driving_log_df['speed']), \" , Max=\", np.max(driving_log_df['speed']))\n",
    "\n",
    "print(\"image Min: \", np.min(sample))\n",
    "print(\"image Max: \", np.max(sample))\n",
    "#sample"
   ]
  },
  {
   "cell_type": "code",
   "execution_count": 46,
   "metadata": {
    "collapsed": false,
    "deletable": true,
    "editable": true
   },
   "outputs": [],
   "source": [
    "def offset_steering(df, offset):\n",
    "    df[df['target'] == 'left']['steering'] = df[df['target'] == 'left']['steering'] + offset\n",
    "    df[df['target'] == 'right']['steering'] = df[df['target'] == 'right']['steering'] - offset\n",
    "    return df\n",
    "\n",
    "def filter_by_steering(df, min_angle):\n",
    "    return df[np.abs(df['steering']) >= min_angle]\n",
    "\n",
    "def append_mirrored_data(df):\n",
    "    dfMirror = df.copy(deep=True)\n",
    "    dfMirror['mirror'] = True\n",
    "    dfMirror['steering'] *= -1\n",
    "    df = pd.concat([df, dfMirror])\n",
    "    return df\n",
    "\n",
    "def set_position_targets(df, position):\n",
    "    if position == 'all':\n",
    "        dfLeft = df.copy(deep=True)\n",
    "        dfLeft['target'] = 'left'\n",
    "        dfCenter = df.copy(deep=True)\n",
    "        dfCenter['target'] = 'center'\n",
    "        dfRight = df.copy(deep=True)\n",
    "        dfRight['target'] = 'right'\n",
    "        df = pd.concat([dfLeft, dfCenter, dfRight])\n",
    "    else:\n",
    "        df['target'] = position \n",
    "    return df\n",
    "    \n",
    "def degrees_to_proportion(val):\n",
    "    return val / 25.\n",
    "    \n",
    "class MyMinMaxScaler():\n",
    "    def __init__(self, new_range=(0,1)):\n",
    "        self.new_min = new_range[0]\n",
    "        self.new_max = new_range[1]\n",
    "        \n",
    "    def fit(self, inputs):\n",
    "        self.min = np.min(inputs)\n",
    "        self.max = np.max(inputs)\n",
    "        \n",
    "    def transform(self, inputs):\n",
    "        return (inputs - self.min) / (self.max - self.min) * (self.new_max - self.new_min) + self.new_min\n",
    "    \n",
    "def get_next_feature(df, batch_size = 10, mode = 'train', position = 'center', offset = 5., val_portion = 0.2, include_mirror=True, steering_multiplier=1.0, min_angle=1.5):\n",
    "    total_len = len(df)\n",
    "    val_len = int(val_portion * total_len)\n",
    "    train_len = total_len - val_len\n",
    "    \n",
    "    offset = degrees_to_proportion(offset)\n",
    "    min_angle = degrees_to_proportion(min_angle)\n",
    "\n",
    "    if mode == \"train\":\n",
    "        df = df[:train_len]\n",
    "    else: #Validation set\n",
    "        df = df[train_len:]\n",
    "        position = 'center' #Only use center data\n",
    "    \n",
    "    min_max_scaler = MyMinMaxScaler((-1,1))\n",
    "    #min_max_scaler = preprocessing.MinMaxScaler((0,1))\n",
    "    min_max_scaler.fit(df['steering'])\n",
    "    df['steering'] = min_max_scaler.transform(df['steering'])\n",
    "    offset, min_angle = min_max_scaler.transform(np.array([offset, min_angle]))\n",
    "    \n",
    "    df = set_position_targets(df, position)\n",
    "    df = offset_steering(df, offset)\n",
    "    df = filter_by_steering(df, min_angle)\n",
    "            \n",
    "    df['mirror'] = False\n",
    "    if include_mirror:\n",
    "        df = append_mirrored_data(df)\n",
    "    \n",
    "    \n",
    "    #Shuffle\n",
    "    df = df.sample(frac=1).reset_index(drop=True)\n",
    "    df = df.sample(frac=1).reset_index(drop=True)\n",
    "    \n",
    "    row = df.iloc[0]\n",
    "    sample_image = cv2.imread(row[row['target']])\n",
    "\n",
    "    image_size = sample_image.shape\n",
    "\n",
    "    inputs = np.zeros([batch_size, *image_size]) #length of prediction output\n",
    "    targets = np.zeros([batch_size])\n",
    "    \n",
    "    count = 0\n",
    "    \n",
    "    while(True):\n",
    "        for idx in range(len(df)):\n",
    "            row = df.iloc[idx]\n",
    "            image_path = row[row['target']]\n",
    "            img = cv2.imread(image_path)\n",
    "            if row['mirror']:\n",
    "                img = img[:,::-1,:]\n",
    "                \n",
    "            img = img[np.newaxis, :, :, :]\n",
    "    \n",
    "            inputs[count] = img\n",
    "            targets[count] = row['steering']\n",
    "            \n",
    "            targets[count] *= steering_multiplier\n",
    "            \n",
    "            count += 1\n",
    "            if count == batch_size:\n",
    "                yield inputs, targets\n",
    "                inputs = np.zeros([batch_size, *image_size])\n",
    "                targets = np.zeros([batch_size])\n",
    "                count = 0\n",
    "                \n",
    "def get_next_feature_discrete(df, batch_size = 10, mode = 'train', position = 'center', offset = 0.1, val_portion = 0.2, include_mirror=True, steering_multiplier=1.0):\n",
    "    gen = get_next_feature(df, batch_size, mode, position, offset, val_portion, include_mirror, steering_multiplier)\n",
    "    while True:\n",
    "        X, y = next(gen)\n",
    "        \n",
    "        # y is continuous between -1 and 1. Bucket into 10 categories.\n",
    "        bin_boundaries = scipy.linspace(-1, 1, 11)\n",
    "        bin_boundaries[-1] +=1 # To include absolutes\n",
    "        bin_boundaries[0] -=1 # To include absolutes\n",
    "        \n",
    "        y_discrete = np.digitize(y, bin_boundaries)\n",
    "        \n",
    "        "
   ]
  },
  {
   "cell_type": "code",
   "execution_count": 47,
   "metadata": {
    "collapsed": false,
    "deletable": true,
    "editable": true
   },
   "outputs": [],
   "source": [
    "# Define the model\n",
    "\n",
    "#model = Model(dropout=0.7, dropout_level=1, orig = False, discrete=False)\n",
    "if model is None:\n",
    "    model = Model(dropout=0.7, dropout_level=1, orig = False, discrete=False)\n"
   ]
  },
  {
   "cell_type": "code",
   "execution_count": 48,
   "metadata": {
    "collapsed": false,
    "deletable": true,
    "editable": true,
    "scrolled": true
   },
   "outputs": [
    {
     "name": "stdout",
     "output_type": "stream",
     "text": [
      "Epoch 1/5\n"
     ]
    },
    {
     "name": "stderr",
     "output_type": "stream",
     "text": [
      "/Users/macbook/anaconda3/envs/carnd-term1/lib/python3.5/site-packages/ipykernel/__main__.py:61: SettingWithCopyWarning: \n",
      "A value is trying to be set on a copy of a slice from a DataFrame.\n",
      "Try using .loc[row_indexer,col_indexer] = value instead\n",
      "\n",
      "See the caveats in the documentation: http://pandas.pydata.org/pandas-docs/stable/indexing.html#indexing-view-versus-copy\n",
      "/Users/macbook/anaconda3/envs/carnd-term1/lib/python3.5/site-packages/ipykernel/__main__.py:2: SettingWithCopyWarning: \n",
      "A value is trying to be set on a copy of a slice from a DataFrame.\n",
      "Try using .loc[row_indexer,col_indexer] = value instead\n",
      "\n",
      "See the caveats in the documentation: http://pandas.pydata.org/pandas-docs/stable/indexing.html#indexing-view-versus-copy\n",
      "  from ipykernel import kernelapp as app\n",
      "/Users/macbook/anaconda3/envs/carnd-term1/lib/python3.5/site-packages/ipykernel/__main__.py:3: SettingWithCopyWarning: \n",
      "A value is trying to be set on a copy of a slice from a DataFrame.\n",
      "Try using .loc[row_indexer,col_indexer] = value instead\n",
      "\n",
      "See the caveats in the documentation: http://pandas.pydata.org/pandas-docs/stable/indexing.html#indexing-view-versus-copy\n",
      "  app.launch_new_instance()\n",
      "/Users/macbook/anaconda3/envs/carnd-term1/lib/python3.5/site-packages/ipykernel/__main__.py:26: SettingWithCopyWarning: \n",
      "A value is trying to be set on a copy of a slice from a DataFrame.\n",
      "Try using .loc[row_indexer,col_indexer] = value instead\n",
      "\n",
      "See the caveats in the documentation: http://pandas.pydata.org/pandas-docs/stable/indexing.html#indexing-view-versus-copy\n"
     ]
    },
    {
     "name": "stdout",
     "output_type": "stream",
     "text": [
      "20s - loss: 0.0192 - val_loss: 0.2495\n",
      "Epoch 2/5\n",
      "14s - loss: 0.0190 - val_loss: 0.2190\n",
      "Epoch 3/5\n",
      "13s - loss: 0.0185 - val_loss: 0.2254\n",
      "Epoch 4/5\n",
      "14s - loss: 0.0143 - val_loss: 0.2521\n",
      "Epoch 5/5\n",
      "13s - loss: 0.3581 - val_loss: 1.2888\n"
     ]
    },
    {
     "data": {
      "text/plain": [
       "<keras.callbacks.History at 0x1211cd160>"
      ]
     },
     "execution_count": 48,
     "metadata": {},
     "output_type": "execute_result"
    }
   ],
   "source": [
    "model.compile(optimizer='Nadam', loss='mean_squared_error')\n",
    "\n",
    "# train model\n",
    "EPOCHS = 5\n",
    "BATCH_SIZE = 300\n",
    "OFFSET = 4. # 0.08-0.25 from forums. 4 degrees = 0.16\n",
    "VAL_PORTION = 0.1\n",
    "INCLUDE_MIRROR = True\n",
    "STEERING_MULTIPLIER = 1.0\n",
    "MIN_ANGLE=0.15 #1.0\n",
    "\n",
    "# Train on all the data\n",
    "# position = 'all'\n",
    "position = 'all'\n",
    "\n",
    "train_generator_all = get_next_feature(driving_log_df, 10, 'train', position, OFFSET, VAL_PORTION, INCLUDE_MIRROR, STEERING_MULTIPLIER, MIN_ANGLE)\n",
    "validation_generator_all = get_next_feature(driving_log_df, 10, 'val', position, OFFSET, VAL_PORTION, INCLUDE_MIRROR, STEERING_MULTIPLIER, MIN_ANGLE)\n",
    "model.fit_generator(train_generator_all, BATCH_SIZE, EPOCHS, verbose=2, validation_data=validation_generator_all, nb_val_samples=BATCH_SIZE/3)\n",
    "\n",
    "# driving_log_df\n",
    "\n"
   ]
  },
  {
   "cell_type": "code",
   "execution_count": 49,
   "metadata": {
    "collapsed": false,
    "deletable": true,
    "editable": true
   },
   "outputs": [],
   "source": [
    "# # Force learn problem areas\n",
    "# if is_AWS:\n",
    "#     track1_dir = '/home/carnd/Dropbox/udacity-data/track1'\n",
    "# else:\n",
    "#     track1_dir = '/Users/macbook/Development/personal/udacity-car/CarND-Behavioral-Cloning-P3/track1'\n",
    "\n",
    "# folders_to_include = ['trial4-startfix']\n",
    "# track1_data_dirs = [track1_dir + '/' + x for x in folders_to_include]\n",
    "\n",
    "# driving_log_df = None\n",
    "\n",
    "# for data_dir in track1_data_dirs:\n",
    "#     df = pd.read_csv(data_dir + \"/driving_log.csv\", header=None, names=[\"center\",\"left\",\"right\",\"steering\",\"throttle\",\"brake\",\"speed\"])\n",
    "\n",
    "#     cols = ['center', 'left', 'right']\n",
    "#     for col in cols:\n",
    "#         df[col] = df[col].str.strip()\n",
    "#         df[col] = df[col].str.split(\"/\").apply(lambda x: x[-1])\n",
    "#     df[['center', 'left', 'right']] = data_dir + \"/IMG/\" + df[['center', 'left', 'right']]\n",
    "    \n",
    "#     if driving_log_df is None:\n",
    "#         driving_log_df = df\n",
    "#     else:\n",
    "#         driving_log_df = pd.concat([driving_log_df, df])\n",
    "\n",
    "# # # shuffle\n",
    "# # np.random.seed(42)\n",
    "# # driving_log_df = driving_log_df.reindex(np.random.permutation(driving_log_df.index), copy=False)\n",
    "\n",
    "# train_generator_all = get_next_feature(driving_log_df, 10, 'train', position, OFFSET, VAL_PORTION, INCLUDE_MIRROR)\n",
    "# validation_generator_all = get_next_feature(driving_log_df, 10, 'val', position, OFFSET, VAL_PORTION, INCLUDE_MIRROR)\n",
    "# model.fit_generator(train_generator_all, BATCH_SIZE, EPOCHS, verbose=2, validation_data=validation_generator_all, nb_val_samples=BATCH_SIZE/3)\n"
   ]
  },
  {
   "cell_type": "code",
   "execution_count": 50,
   "metadata": {
    "collapsed": true
   },
   "outputs": [],
   "source": [
    "model.save('modeltest.h5')"
   ]
  },
  {
   "cell_type": "code",
   "execution_count": 51,
   "metadata": {
    "collapsed": false,
    "deletable": true,
    "editable": true
   },
   "outputs": [],
   "source": [
    "#model.save('model.h5')"
   ]
  },
  {
   "cell_type": "code",
   "execution_count": 52,
   "metadata": {
    "collapsed": false,
    "deletable": true,
    "editable": true
   },
   "outputs": [],
   "source": [
    "#Series([x.split(\"/\")[-1] for x in track1_data_dirs], name=\"done_to_exclude\").to_csv(\"to_exclude.csv\")"
   ]
  },
  {
   "cell_type": "code",
   "execution_count": null,
   "metadata": {
    "collapsed": false,
    "deletable": true,
    "editable": true
   },
   "outputs": [],
   "source": []
  },
  {
   "cell_type": "code",
   "execution_count": null,
   "metadata": {
    "collapsed": false,
    "deletable": true,
    "editable": true
   },
   "outputs": [],
   "source": []
  },
  {
   "cell_type": "code",
   "execution_count": null,
   "metadata": {
    "collapsed": false,
    "deletable": true,
    "editable": true
   },
   "outputs": [],
   "source": []
  },
  {
   "cell_type": "code",
   "execution_count": null,
   "metadata": {
    "collapsed": false,
    "deletable": true,
    "editable": true
   },
   "outputs": [],
   "source": []
  },
  {
   "cell_type": "code",
   "execution_count": null,
   "metadata": {
    "collapsed": false,
    "deletable": true,
    "editable": true
   },
   "outputs": [],
   "source": []
  },
  {
   "cell_type": "code",
   "execution_count": null,
   "metadata": {
    "collapsed": true
   },
   "outputs": [],
   "source": []
  },
  {
   "cell_type": "code",
   "execution_count": null,
   "metadata": {
    "collapsed": false,
    "deletable": true,
    "editable": true
   },
   "outputs": [],
   "source": [
    "\n"
   ]
  },
  {
   "cell_type": "code",
   "execution_count": null,
   "metadata": {
    "collapsed": false
   },
   "outputs": [],
   "source": []
  }
 ],
 "metadata": {
  "kernelspec": {
   "display_name": "Python 3",
   "language": "python",
   "name": "python3"
  },
  "language_info": {
   "codemirror_mode": {
    "name": "ipython",
    "version": 3
   },
   "file_extension": ".py",
   "mimetype": "text/x-python",
   "name": "python",
   "nbconvert_exporter": "python",
   "pygments_lexer": "ipython3",
   "version": "3.5.2"
  },
  "widgets": {
   "state": {},
   "version": "1.1.2"
  }
 },
 "nbformat": 4,
 "nbformat_minor": 2
}
